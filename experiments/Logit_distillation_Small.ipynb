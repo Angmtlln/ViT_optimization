{
 "cells": [
  {
   "cell_type": "markdown",
   "id": "324d7a91",
   "metadata": {},
   "source": [
    "# 1️⃣ IMPORTS"
   ]
  },
  {
   "cell_type": "code",
   "execution_count": 1,
   "metadata": {
    "language": "python"
   },
   "outputs": [
    {
     "name": "stdout",
     "output_type": "stream",
     "text": [
      "✓ GPU is available. Using CUDA\n"
     ]
    }
   ],
   "source": [
    "# ==============================\n",
    "# Импорты и настройки устройства\n",
    "# ==============================\n",
    "import os, sys, math, random, json, time\n",
    "import numpy as np\n",
    "import torch\n",
    "import torch.nn as nn\n",
    "import torch.nn.functional as F\n",
    "from torch.utils.data import Dataset, DataLoader\n",
    "from pathlib import Path\n",
    "from glob import glob\n",
    "from PIL import Image\n",
    "from collections import defaultdict\n",
    "from sklearn.model_selection import train_test_split\n",
    "import matplotlib.pyplot as plt\n",
    "\n",
    "if torch.cuda.is_available():\n",
    "    print('✓ GPU is available. Using CUDA')\n",
    "else:\n",
    "    print('⚠ Using CPU')\n",
    "device = torch.device('cuda' if torch.cuda.is_available() else 'cpu')\n",
    "\n",
    "SEED = 42\n",
    "random.seed(SEED)\n",
    "np.random.seed(SEED)\n",
    "torch.manual_seed(SEED)\n",
    "if torch.cuda.is_available():\n",
    "    torch.cuda.manual_seed_all(SEED)"
   ]
  },
  {
   "cell_type": "markdown",
   "id": "140e3f6c",
   "metadata": {},
   "source": [
    "# 2️⃣ MODEL DOWNLOAD / SETUP"
   ]
  },
  {
   "cell_type": "code",
   "execution_count": 2,
   "metadata": {
    "language": "python"
   },
   "outputs": [],
   "source": [
    "# ==============================\n",
    "# Конфиг\n",
    "# ==============================\n",
    "ROOT_DIR = 'kvasir-dataset-v2'  # корень датасета (классы = подпапки)\n",
    "\n",
    "# Обучение teacher linear probe\n",
    "TEACHER_LR = 5e-4\n",
    "TEACHER_EPOCHS = 5\n",
    "\n",
    "# Обучение студента с KD\n",
    "KD_LR = 1e-4\n",
    "KD_EPOCHS = 10\n",
    "BATCH_SIZE = 16\n",
    "NUM_WORKERS = 0  # для Windows 0 безопаснее\n",
    "\n",
    "# KD гиперпараметры\n",
    "TEMPERATURE = 4.0\n",
    "KD_ALPHA = 0.7  # вес KD (KL); (1-KD_ALPHA) — вес CE по меткам\n",
    "\n",
    "SAVE_BEST = True"
   ]
  },
  {
   "cell_type": "code",
   "execution_count": 5,
   "id": "460adae8",
   "metadata": {},
   "outputs": [
    {
     "name": "stdout",
     "output_type": "stream",
     "text": [
      "c:\\Users\\amirn\\OneDrive\\Рабочий стол\\ViT_opti\\ViT_optimization\n"
     ]
    }
   ],
   "source": [
    "cd .."
   ]
  },
  {
   "cell_type": "code",
   "execution_count": 6,
   "metadata": {
    "language": "python"
   },
   "outputs": [
    {
     "name": "stdout",
     "output_type": "stream",
     "text": [
      "c:\\Users\\amirn\\OneDrive\\Рабочий стол\\ViT_opti\\ViT_optimization\\perception_models\n"
     ]
    }
   ],
   "source": [
    "cd perception_models"
   ]
  },
  {
   "cell_type": "code",
   "execution_count": 7,
   "metadata": {
    "language": "python"
   },
   "outputs": [
    {
     "name": "stderr",
     "output_type": "stream",
     "text": [
      "c:\\Users\\amirn\\OneDrive\\Рабочий стол\\ViT_opti\\ViT_optimization\\.venv\\Lib\\site-packages\\tqdm\\auto.py:21: TqdmWarning: IProgress not found. Please update jupyter and ipywidgets. See https://ipywidgets.readthedocs.io/en/stable/user_install.html\n",
      "  from .autonotebook import tqdm as notebook_tqdm\n"
     ]
    },
    {
     "name": "stdout",
     "output_type": "stream",
     "text": [
      "Загружаем модель-учителя PE-Core-L14-336...\n",
      "Missing keys for loading model: []\n",
      "Unexpected keys for loading model: []\n",
      "Загружаем модель-студента PE-Core-S16-384...\n",
      "Missing keys for loading model: []\n",
      "Unexpected keys for loading model: []\n",
      "Размеры: teacher_img=336, student_img=384\n",
      "Dims: teacher=1024, student=512\n"
     ]
    }
   ],
   "source": [
    "from core.vision_encoder import pe\n",
    "from core.vision_encoder import transforms\n",
    "\n",
    "print('Загружаем модель-учителя PE-Core-L14-336...')\n",
    "teacher_model = pe.CLIP.from_config('PE-Core-L14-336', pretrained=True).to(device).float().eval()\n",
    "\n",
    "print('Загружаем модель-студента PE-Core-S16-384...')\n",
    "student_model = pe.CLIP.from_config('PE-Core-S16-384', pretrained=True).to(device).float()\n",
    "\n",
    "teacher_preprocessor = transforms.get_image_transform(teacher_model.image_size)\n",
    "student_preprocessor = transforms.get_image_transform(student_model.image_size)\n",
    "teacher_dim = teacher_model.visual.output_dim\n",
    "student_dim = student_model.visual.output_dim\n",
    "\n",
    "print(f'Размеры: teacher_img={teacher_model.image_size}, student_img={student_model.image_size}')\n",
    "print(f'Dims: teacher={teacher_dim}, student={student_dim}')"
   ]
  },
  {
   "cell_type": "code",
   "execution_count": 10,
   "metadata": {
    "language": "python"
   },
   "outputs": [
    {
     "name": "stdout",
     "output_type": "stream",
     "text": [
      "c:\\Users\\amirn\\OneDrive\\Рабочий стол\\ViT_opti\\ViT_optimization\\data\n"
     ]
    }
   ],
   "source": [
    "cd data"
   ]
  },
  {
   "cell_type": "markdown",
   "id": "e5a99af4",
   "metadata": {},
   "source": [
    "# 3️⃣ DATASET PREPARATION"
   ]
  },
  {
   "cell_type": "code",
   "execution_count": 11,
   "metadata": {
    "language": "python"
   },
   "outputs": [
    {
     "name": "stdout",
     "output_type": "stream",
     "text": [
      "Ищем изображения...\n",
      "Найдено 8000 jpg-файлов\n",
      "Валидных изображений: 7999\n",
      "Классов: 8 -> ['dyed-lifted-polyps', 'dyed-resection-margins', 'esophagitis', 'normal-cecum', 'normal-pylorus', 'normal-z-line', 'polyps', 'ulcerative-colitis']\n",
      "Подмножество: 4000 изображений\n",
      "Train: 2560  Val: 640  Test: 800\n"
     ]
    }
   ],
   "source": [
    "# ==============================\n",
    "# Подготовка датасета\n",
    "# ==============================\n",
    "def extract_label_from_path(image_path, root_dir):\n",
    "    parts = Path(image_path).parts\n",
    "    try:\n",
    "        ridx = parts.index(Path(root_dir).name)\n",
    "        return parts[ridx + 1]\n",
    "    except (ValueError, IndexError):\n",
    "        return None\n",
    "\n",
    "print('Ищем изображения...')\n",
    "all_image_paths = glob(os.path.join(ROOT_DIR, '**', '*.jpg'), recursive=True)\n",
    "print(f'Найдено {len(all_image_paths)} jpg-файлов')\n",
    "\n",
    "image_to_path, image_to_label = {}, {}\n",
    "for p in all_image_paths:\n",
    "    image_id = os.path.splitext(os.path.basename(p))[0]\n",
    "    label = extract_label_from_path(p, ROOT_DIR)\n",
    "    if label is not None:\n",
    "        image_to_path[image_id] = p\n",
    "        image_to_label[image_id] = label\n",
    "\n",
    "print(f'Валидных изображений: {len(image_to_label)}')\n",
    "\n",
    "classes = sorted(list(set(image_to_label.values())))\n",
    "label_to_idx = {c: i for i, c in enumerate(classes)}\n",
    "idx_to_label = {i: c for c, i in label_to_idx.items()}\n",
    "print(f'Классов: {len(classes)} -> {classes}')\n",
    "\n",
    "# Опционально — сбалансированное подмножество\n",
    "images_by_class = defaultdict(list)\n",
    "for img_id, lbl in image_to_label.items():\n",
    "    images_by_class[lbl].append(img_id)\n",
    "\n",
    "images_per_class = 500  # при нехватке возьмется меньше\n",
    "sampled = []\n",
    "for lbl, ids in images_by_class.items():\n",
    "    k = min(images_per_class, len(ids))\n",
    "    sampled.extend(random.sample(ids, k))\n",
    "random.shuffle(sampled)\n",
    "print(f'Подмножество: {len(sampled)} изображений')\n",
    "\n",
    "labels_for_strat = [image_to_label[i] for i in sampled]\n",
    "train_val_ids, test_ids = train_test_split(sampled, test_size=0.20, stratify=labels_for_strat, random_state=SEED)\n",
    "train_labels_for_strat = [image_to_label[i] for i in train_val_ids]\n",
    "train_ids, val_ids = train_test_split(train_val_ids, test_size=0.20, stratify=train_labels_for_strat, random_state=SEED)\n",
    "\n",
    "print(f'Train: {len(train_ids)}  Val: {len(val_ids)}  Test: {len(test_ids)}')"
   ]
  },
  {
   "cell_type": "code",
   "execution_count": 15,
   "metadata": {
    "language": "python"
   },
   "outputs": [
    {
     "name": "stdout",
     "output_type": "stream",
     "text": [
      "✓ DataLoaders готовы\n"
     ]
    }
   ],
   "source": [
    "# ==============================\n",
    "# Dataset и DataLoader\n",
    "# ==============================\n",
    "class KDDataset(Dataset):\n",
    "    def __init__(self, image_ids, image_to_path, image_to_label, label_to_idx, t_transform, s_transform):\n",
    "        self.ids = image_ids\n",
    "        self.image_to_path = image_to_path\n",
    "        self.image_to_label = image_to_label\n",
    "        self.label_to_idx = label_to_idx\n",
    "        self.t_transform = t_transform\n",
    "        self.s_transform = s_transform\n",
    "    def __len__(self):\n",
    "        return len(self.ids)\n",
    "    def __getitem__(self, idx):\n",
    "        img_id = self.ids[idx]\n",
    "        path = self.image_to_path[img_id]\n",
    "        label = self.image_to_label[img_id]\n",
    "        y = self.label_to_idx[label]\n",
    "        img = Image.open(path).convert('RGB')\n",
    "        x_t = self.t_transform(img)\n",
    "        x_s = self.s_transform(img)\n",
    "        return x_t, x_s, torch.tensor(y, dtype=torch.long)\n",
    "\n",
    "train_ds = KDDataset(train_ids, image_to_path, image_to_label, label_to_idx, teacher_preprocessor, student_preprocessor)\n",
    "val_ds   = KDDataset(val_ids,   image_to_path, image_to_label, label_to_idx, teacher_preprocessor, student_preprocessor)\n",
    "test_ds  = KDDataset(test_ids,  image_to_path, image_to_label, label_to_idx, teacher_preprocessor, student_preprocessor)\n",
    "\n",
    "train_loader = DataLoader(train_ds, batch_size=BATCH_SIZE, shuffle=True,  num_workers=NUM_WORKERS, pin_memory=torch.cuda.is_available())\n",
    "val_loader   = DataLoader(val_ds,   batch_size=BATCH_SIZE, shuffle=False, num_workers=NUM_WORKERS, pin_memory=torch.cuda.is_available())\n",
    "test_loader  = DataLoader(test_ds,  batch_size=BATCH_SIZE, shuffle=False, num_workers=NUM_WORKERS, pin_memory=torch.cuda.is_available())\n",
    "\n",
    "print('✓ DataLoaders готовы')"
   ]
  },
  {
   "cell_type": "markdown",
   "id": "2cf89d10",
   "metadata": {},
   "source": [
    "# 4️⃣ MODEL PREPARATION"
   ]
  },
  {
   "cell_type": "code",
   "execution_count": 16,
   "metadata": {
    "language": "python"
   },
   "outputs": [
    {
     "name": "stdout",
     "output_type": "stream",
     "text": [
      "Инициализированы головы: teacher_head 1024->8, student_head 512->8\n"
     ]
    }
   ],
   "source": [
    "# ==============================\n",
    "# Головы классификации\n",
    "# ==============================\n",
    "class LinearHead(nn.Module):\n",
    "    def __init__(self, in_dim, num_classes):\n",
    "        super().__init__()\n",
    "        self.fc = nn.Linear(in_dim, num_classes)\n",
    "    def forward(self, x):\n",
    "        return self.fc(x)\n",
    "\n",
    "num_classes = len(classes)\n",
    "teacher_head = LinearHead(teacher_dim, num_classes).to(device)\n",
    "student_head = LinearHead(student_dim, num_classes).to(device)\n",
    "print(f'Инициализированы головы: teacher_head {teacher_dim}->{num_classes}, student_head {student_dim}->{num_classes}')"
   ]
  },
  {
   "cell_type": "markdown",
   "id": "a490200a",
   "metadata": {},
   "source": [
    "# 5️⃣ TRAINING LOOP"
   ]
  },
  {
   "cell_type": "code",
   "execution_count": 17,
   "metadata": {
    "language": "python"
   },
   "outputs": [
    {
     "name": "stdout",
     "output_type": "stream",
     "text": [
      "[Teacher Probe] Epoch 1/5 | TrainAcc 68.59% | ValAcc 77.19% | ValLoss 0.6529\n",
      "[Teacher Probe] Epoch 2/5 | TrainAcc 85.55% | ValAcc 87.81% | ValLoss 0.4571\n",
      "[Teacher Probe] Epoch 3/5 | TrainAcc 87.07% | ValAcc 89.38% | ValLoss 0.3736\n",
      "[Teacher Probe] Epoch 4/5 | TrainAcc 89.22% | ValAcc 88.12% | ValLoss 0.3590\n",
      "[Teacher Probe] Epoch 5/5 | TrainAcc 89.80% | ValAcc 89.22% | ValLoss 0.3425\n",
      "✓ Сохранен teacher linear probe (ValAcc=89.38%)\n"
     ]
    }
   ],
   "source": [
    "# ==============================\n",
    "# Обучение teacher linear probe\n",
    "# ==============================\n",
    "def evaluate_head(model, head, loader, device):\n",
    "    model.eval(); head.eval()\n",
    "    correct, total, loss_sum, n_batches = 0, 0, 0.0, 0\n",
    "    ce = nn.CrossEntropyLoss()\n",
    "    with torch.no_grad():\n",
    "        for x_t, _, y in loader:\n",
    "            x_t = x_t.to(device, non_blocking=True)\n",
    "            y = y.to(device, non_blocking=True)\n",
    "            feats = model.encode_image(x_t)\n",
    "            logits = head(feats)\n",
    "            loss = ce(logits, y)\n",
    "            _, pred = torch.max(logits, 1)\n",
    "            total += y.size(0)\n",
    "            correct += (pred == y).sum().item()\n",
    "            loss_sum += loss.item()\n",
    "            n_batches += 1\n",
    "    acc = 100.0 * correct / total if total > 0 else 0.0\n",
    "    return (loss_sum / max(1, n_batches)), acc\n",
    "\n",
    "def train_teacher_probe(model, head, train_loader, val_loader, epochs=TEACHER_EPOCHS, lr=TEACHER_LR):\n",
    "    for p in model.parameters():\n",
    "        p.requires_grad = False\n",
    "    head.train()\n",
    "    opt = torch.optim.AdamW(head.parameters(), lr=lr, weight_decay=1e-5)\n",
    "    ce = nn.CrossEntropyLoss()\n",
    "    best_val_acc, best_state = -1.0, None\n",
    "    for ep in range(1, epochs + 1):\n",
    "        head.train()\n",
    "        loss_sum, n_batches, correct, total = 0.0, 0, 0, 0\n",
    "        for x_t, _, y in train_loader:\n",
    "            x_t = x_t.to(device, non_blocking=True)\n",
    "            y = y.to(device, non_blocking=True)\n",
    "            with torch.no_grad():\n",
    "                feats = model.encode_image(x_t)\n",
    "            logits = head(feats)\n",
    "            loss = ce(logits, y)\n",
    "            opt.zero_grad()\n",
    "            loss.backward()\n",
    "            opt.step()\n",
    "            _, pred = torch.max(logits, 1)\n",
    "            total += y.size(0)\n",
    "            correct += (pred == y).sum().item()\n",
    "            loss_sum += loss.item()\n",
    "            n_batches += 1\n",
    "        train_acc = 100.0 * correct / total if total > 0 else 0.0\n",
    "        val_loss, val_acc = evaluate_head(model, head, val_loader, device)\n",
    "        print(f'[Teacher Probe] Epoch {ep}/{epochs} | TrainAcc {train_acc:.2f}% | ValAcc {val_acc:.2f}% | ValLoss {val_loss:.4f}')\n",
    "        if val_acc > best_val_acc:\n",
    "            best_val_acc = val_acc\n",
    "            best_state = head.state_dict()\n",
    "    if best_state is not None:\n",
    "        head.load_state_dict(best_state)\n",
    "    for p in head.parameters():\n",
    "        p.requires_grad = False\n",
    "    head.eval()\n",
    "    torch.save({'state_dict': head.state_dict(), 'num_classes': num_classes}, 'teacher_linear_probe.pth')\n",
    "    print(f'✓ Сохранен teacher linear probe (ValAcc={best_val_acc:.2f}%)')\n",
    "\n",
    "train_teacher_probe(teacher_model, teacher_head, train_loader, val_loader)"
   ]
  },
  {
   "cell_type": "code",
   "execution_count": 18,
   "metadata": {
    "language": "python"
   },
   "outputs": [
    {
     "name": "stdout",
     "output_type": "stream",
     "text": [
      "✓ KD критерий инициализирован\n"
     ]
    }
   ],
   "source": [
    "# ==============================\n",
    "# KD Loss (KL с температурой) + CE\n",
    "# ==============================\n",
    "class KDLoss(nn.Module):\n",
    "    def __init__(self, temperature=4.0, alpha=0.7):\n",
    "        super().__init__()\n",
    "        self.T = temperature\n",
    "        self.alpha = alpha\n",
    "        self.kl = nn.KLDivLoss(reduction='batchmean')\n",
    "        self.ce = nn.CrossEntropyLoss()\n",
    "    def forward(self, student_logits, teacher_logits, labels):\n",
    "        T = self.T\n",
    "        kd = self.kl(F.log_softmax(student_logits / T, dim=-1),\n",
    "                     F.softmax(teacher_logits / T, dim=-1)) * (T * T)\n",
    "        ce = self.ce(student_logits, labels)\n",
    "        total = self.alpha * kd + (1.0 - self.alpha) * ce\n",
    "        return total, kd, ce\n",
    "\n",
    "kd_criterion = KDLoss(temperature=TEMPERATURE, alpha=KD_ALPHA)\n",
    "print('✓ KD критерий инициализирован')"
   ]
  },
  {
   "cell_type": "code",
   "execution_count": 19,
   "metadata": {
    "language": "python"
   },
   "outputs": [],
   "source": [
    "# ==============================\n",
    "# Валидация студента\n",
    "# ==============================\n",
    "def validate_student(student_model, student_head, teacher_model, teacher_head, loader, criterion, device):\n",
    "    student_model.eval(); student_head.eval()\n",
    "    teacher_model.eval(); teacher_head.eval()\n",
    "    total_loss = total_kd = total_ce = 0.0\n",
    "    correct = total = n_batches = 0\n",
    "    with torch.no_grad():\n",
    "        for x_t, x_s, y in loader:\n",
    "            x_t = x_t.to(device, non_blocking=True)\n",
    "            x_s = x_s.to(device, non_blocking=True)\n",
    "            y = y.to(device, non_blocking=True)\n",
    "\n",
    "            # Логиты учителя (фрозен)\n",
    "            t_feat = teacher_model.encode_image(x_t)\n",
    "            t_logits = teacher_head(t_feat)\n",
    "\n",
    "            # Логиты студента\n",
    "            s_feat = student_model.encode_image(x_s)\n",
    "            s_logits = student_head(s_feat)\n",
    "\n",
    "            loss, kd, ce = criterion(s_logits, t_logits, y)\n",
    "            total_loss += loss.item()\n",
    "            total_kd += kd.item()\n",
    "            total_ce += ce.item()\n",
    "            _, pred = torch.max(s_logits, 1)\n",
    "            total += y.size(0)\n",
    "            correct += (pred == y).sum().item()\n",
    "            n_batches += 1\n",
    "    avg_loss = total_loss / max(1, n_batches)\n",
    "    avg_kd = total_kd / max(1, n_batches)\n",
    "    avg_ce = total_ce / max(1, n_batches)\n",
    "    acc = 100.0 * correct / total if total > 0 else 0.0\n",
    "    return avg_loss, avg_kd, avg_ce, acc"
   ]
  },
  {
   "cell_type": "code",
   "execution_count": 20,
   "metadata": {
    "language": "python"
   },
   "outputs": [
    {
     "name": "stdout",
     "output_type": "stream",
     "text": [
      "\n",
      "================================================================================\n",
      "НАЧАЛО ОБУЧЕНИЯ С ЛОГИТ-ДИСТИЛЛЯЦИЕЙ (KD)\n",
      "================================================================================\n",
      "\n",
      "Epoch 1/10 | Train: loss=1.0501 kd=1.1635 ce=0.7854 | Val: loss=0.5426 kd=0.5998 ce=0.4093 acc=84.22%\n",
      "  ✓ Сохранена лучшая модель (ValAcc=84.22%)\n",
      "Epoch 2/10 | Train: loss=0.4773 kd=0.5175 ce=0.3836 | Val: loss=0.4718 kd=0.5139 ce=0.3735 acc=86.72%\n",
      "  ✓ Сохранена лучшая модель (ValAcc=86.72%)\n",
      "Epoch 3/10 | Train: loss=0.3435 kd=0.3731 ce=0.2745 | Val: loss=0.3730 kd=0.4077 ce=0.2921 acc=91.25%\n",
      "  ✓ Сохранена лучшая модель (ValAcc=91.25%)\n",
      "Epoch 4/10 | Train: loss=0.2613 kd=0.2729 ce=0.2342 | Val: loss=0.3362 kd=0.3538 ce=0.2950 acc=91.41%\n",
      "  ✓ Сохранена лучшая модель (ValAcc=91.41%)\n",
      "Epoch 5/10 | Train: loss=0.2138 kd=0.2130 ce=0.2155 | Val: loss=0.3247 kd=0.3345 ce=0.3017 acc=90.00%\n",
      "Epoch 6/10 | Train: loss=0.1753 kd=0.1649 ce=0.1994 | Val: loss=0.3068 kd=0.3251 ce=0.2641 acc=90.94%\n",
      "Epoch 7/10 | Train: loss=0.1426 kd=0.1215 ce=0.1918 | Val: loss=0.2939 kd=0.3071 ce=0.2631 acc=91.88%\n",
      "  ✓ Сохранена лучшая модель (ValAcc=91.88%)\n",
      "Epoch 8/10 | Train: loss=0.1192 kd=0.0916 ce=0.1837 | Val: loss=0.2897 kd=0.2974 ce=0.2717 acc=91.25%\n",
      "Epoch 9/10 | Train: loss=0.1060 kd=0.0734 ce=0.1822 | Val: loss=0.2886 kd=0.2969 ce=0.2690 acc=91.09%\n",
      "Epoch 10/10 | Train: loss=0.1005 kd=0.0662 ce=0.1806 | Val: loss=0.2895 kd=0.2983 ce=0.2691 acc=91.09%\n",
      "\n",
      "Завершено обучение KD. Лучшая ValAcc: 91.88%\n"
     ]
    }
   ],
   "source": [
    "# ==============================\n",
    "# Тренировка студента с KD\n",
    "# ==============================\n",
    "optimizer = torch.optim.AdamW(list(student_model.parameters()) + list(student_head.parameters()), lr=KD_LR, weight_decay=1e-5)\n",
    "scheduler = torch.optim.lr_scheduler.CosineAnnealingLR(optimizer, T_max=KD_EPOCHS)\n",
    "\n",
    "history = {\n",
    "    'train_loss': [], 'train_kd': [], 'train_ce': [],\n",
    "    'val_loss': [], 'val_kd': [], 'val_ce': [], 'val_acc': []\n",
    "}\n",
    "best_val_acc, best_state = -1.0, None\n",
    "\n",
    "print('\\n' + '='*80)\n",
    "print('НАЧАЛО ОБУЧЕНИЯ С ЛОГИТ-ДИСТИЛЛЯЦИЕЙ (KD)')\n",
    "print('='*80 + '\\n')\n",
    "\n",
    "for epoch in range(1, KD_EPOCHS + 1):\n",
    "    student_model.train(); student_head.train()\n",
    "    teacher_model.eval(); teacher_head.eval()\n",
    "    loss_sum = kd_sum = ce_sum = 0.0\n",
    "    n_batches = 0\n",
    "\n",
    "    for x_t, x_s, y in DataLoader(train_ds, batch_size=BATCH_SIZE, shuffle=True, num_workers=NUM_WORKERS, pin_memory=torch.cuda.is_available()):\n",
    "        x_t = x_t.to(device, non_blocking=True)\n",
    "        x_s = x_s.to(device, non_blocking=True)\n",
    "        y = y.to(device, non_blocking=True)\n",
    "\n",
    "        with torch.no_grad():\n",
    "            t_feat = teacher_model.encode_image(x_t)\n",
    "            t_logits = teacher_head(t_feat)\n",
    "\n",
    "        s_feat = student_model.encode_image(x_s)\n",
    "        s_logits = student_head(s_feat)\n",
    "\n",
    "        loss, kd, ce = kd_criterion(s_logits, t_logits, y)\n",
    "        optimizer.zero_grad()\n",
    "        loss.backward()\n",
    "        optimizer.step()\n",
    "\n",
    "        loss_sum += loss.item()\n",
    "        kd_sum += kd.item()\n",
    "        ce_sum += ce.item()\n",
    "        n_batches += 1\n",
    "\n",
    "    avg_train_loss = loss_sum / max(1, n_batches)\n",
    "    avg_train_kd = kd_sum / max(1, n_batches)\n",
    "    avg_train_ce = ce_sum / max(1, n_batches)\n",
    "\n",
    "    val_loss, val_kd, val_ce, val_acc = validate_student(student_model, student_head, teacher_model, teacher_head, val_loader, kd_criterion, device)\n",
    "    scheduler.step()\n",
    "\n",
    "    history['train_loss'].append(avg_train_loss)\n",
    "    history['train_kd'].append(avg_train_kd)\n",
    "    history['train_ce'].append(avg_train_ce)\n",
    "    history['val_loss'].append(val_loss)\n",
    "    history['val_kd'].append(val_kd)\n",
    "    history['val_ce'].append(val_ce)\n",
    "    history['val_acc'].append(val_acc)\n",
    "\n",
    "    print(f'Epoch {epoch}/{KD_EPOCHS} | Train: loss={avg_train_loss:.4f} kd={avg_train_kd:.4f} ce={avg_train_ce:.4f} | Val: loss={val_loss:.4f} kd={val_kd:.4f} ce={val_ce:.4f} acc={val_acc:.2f}%')\n",
    "\n",
    "    if SAVE_BEST and val_acc > best_val_acc:\n",
    "        best_val_acc = val_acc\n",
    "        best_state = {\n",
    "            'student_model': student_model.state_dict(),\n",
    "            'student_head': student_head.state_dict(),\n",
    "            'epoch': epoch,\n",
    "            'val_acc': val_acc\n",
    "        }\n",
    "        torch.save(best_state, 'student_kd_best.pth')\n",
    "        print(f'  ✓ Сохранена лучшая модель (ValAcc={val_acc:.2f}%)')\n",
    "\n",
    "print('\\nЗавершено обучение KD. Лучшая ValAcc:', f'{best_val_acc:.2f}%')"
   ]
  },
  {
   "cell_type": "markdown",
   "id": "4fc324f2",
   "metadata": {},
   "source": [
    "# 6️⃣ EVALUATION/TESTING"
   ]
  },
  {
   "cell_type": "code",
   "execution_count": 21,
   "metadata": {
    "language": "python"
   },
   "outputs": [
    {
     "name": "stdout",
     "output_type": "stream",
     "text": [
      "Test Accuracy: 92.38%\n",
      "Accuracy по классам:\n",
      "  dyed-lifted-polyps: 90.00% (90/100)\n",
      "  dyed-resection-margins: 98.00% (98/100)\n",
      "  esophagitis: 86.00% (86/100)\n",
      "  normal-cecum: 95.00% (95/100)\n",
      "  normal-pylorus: 98.00% (98/100)\n",
      "  normal-z-line: 83.00% (83/100)\n",
      "  polyps: 92.00% (92/100)\n",
      "  ulcerative-colitis: 97.00% (97/100)\n",
      "✓ Финальная модель сохранена: student_kd_final.pth\n"
     ]
    }
   ],
   "source": [
    "# ==============================\n",
    "# Тестирование\n",
    "# ==============================\n",
    "def test_student(student_model, student_head, loader, device):\n",
    "    student_model.eval(); student_head.eval()\n",
    "    correct, total = 0, 0\n",
    "    class_correct = defaultdict(int)\n",
    "    class_total = defaultdict(int)\n",
    "    with torch.no_grad():\n",
    "        for _, x_s, y in loader:\n",
    "            x_s = x_s.to(device, non_blocking=True)\n",
    "            y = y.to(device, non_blocking=True)\n",
    "            s_feat = student_model.encode_image(x_s)\n",
    "            logits = student_head(s_feat)\n",
    "            _, pred = torch.max(logits, 1)\n",
    "            total += y.size(0)\n",
    "            correct += (pred == y).sum().item()\n",
    "            for i in range(y.size(0)):\n",
    "                cls_name = idx_to_label[y[i].item()]\n",
    "                class_total[cls_name] += 1\n",
    "                if pred[i] == y[i]:\n",
    "                    class_correct[cls_name] += 1\n",
    "    acc = 100.0 * correct / total if total > 0 else 0.0\n",
    "    return acc, class_correct, class_total\n",
    "\n",
    "test_acc, class_correct, class_total = test_student(student_model, student_head, test_loader, device)\n",
    "print(f'Test Accuracy: {test_acc:.2f}%')\n",
    "print('Accuracy по классам:')\n",
    "for cls in sorted(class_total.keys()):\n",
    "    acc_c = 100.0 * class_correct[cls] / class_total[cls] if class_total[cls] > 0 else 0.0\n",
    "    print(f'  {cls}: {acc_c:.2f}% ({class_correct[cls]}/{class_total[cls]})')\n",
    "\n",
    "torch.save({\n",
    "    'student_model': student_model.state_dict(),\n",
    "    'student_head': student_head.state_dict(),\n",
    "    'classes': classes,\n",
    "    'label_to_idx': label_to_idx,\n",
    "    'idx_to_label': idx_to_label,\n",
    "    'teacher_dim': teacher_dim,\n",
    "    'student_dim': student_dim,\n",
    "    'num_classes': num_classes,\n",
    "    'history': history\n",
    "}, 'student_kd_final.pth')\n",
    "print('✓ Финальная модель сохранена: student_kd_final.pth')"
   ]
  },
  {
   "cell_type": "markdown",
   "id": "feb9f233",
   "metadata": {},
   "source": [
    "#  7️⃣ RESULTS & VISUALIZATION"
   ]
  },
  {
   "cell_type": "code",
   "execution_count": 22,
   "metadata": {
    "language": "python"
   },
   "outputs": [
    {
     "name": "stdout",
     "output_type": "stream",
     "text": [
      "📈 История обучения сохранена: training_history_kd.png\n"
     ]
    },
    {
     "data": {
      "image/png": "[encoded data removed]",
      "text/plain": [
       "<Figure size 1400x1000 with 4 Axes>"
      ]
     },
     "metadata": {},
     "output_type": "display_data"
    }
   ],
   "source": [
    "# ==============================\n",
    "# Визуализация метрик\n",
    "# ==============================\n",
    "fig, axes = plt.subplots(2, 2, figsize=(14, 10))\n",
    "axes[0,0].plot(history['train_loss'], label='Train'); axes[0,0].plot(history['val_loss'], label='Val'); axes[0,0].set_title('Total Loss'); axes[0,0].legend(); axes[0,0].grid(True)\n",
    "axes[0,1].plot(history['train_kd'], label='Train KD'); axes[0,1].plot(history['val_kd'], label='Val KD'); axes[0,1].set_title('KD Loss'); axes[0,1].legend(); axes[0,1].grid(True)\n",
    "axes[1,0].plot(history['train_ce'], label='Train CE'); axes[1,0].plot(history['val_ce'], label='Val CE'); axes[1,0].set_title('CE Loss'); axes[1,0].legend(); axes[1,0].grid(True)\n",
    "axes[1,1].plot(history['val_acc'], label='Val Acc', color='green'); axes[1,1].set_title('Validation Accuracy'); axes[1,1].legend(); axes[1,1].grid(True)\n",
    "plt.tight_layout()\n",
    "plt.savefig('training_history_kd.png', dpi=150, bbox_inches='tight')\n",
    "print('📈 История обучения сохранена: training_history_kd.png')\n",
    "plt.show()"
   ]
  },
  {
   "cell_type": "markdown",
   "metadata": {},
   "source": [
    "Заметки:\n",
    "- Этот ноутбук выполняет дистилляцию через логиты (KL + температура), в отличие от предыдущего, где матчатся признаки (cosine).\n",
    "- Учитель не обучается; обучается только его линейная голова (linear probe) для получения teacher_logits.\n",
    "- В цикле KD студент подгоняет распределение вероятностей под teacher_logits и одновременно оптимизируется по меткам (CE)."
   ]
  }
 ],
 "metadata": {
  "kernelspec": {
   "display_name": ".venv",
   "language": "python",
   "name": "python3"
  },
  "language_info": {
   "codemirror_mode": {
    "name": "ipython",
    "version": 3
   },
   "file_extension": ".py",
   "mimetype": "text/x-python",
   "name": "python",
   "nbconvert_exporter": "python",
   "pygments_lexer": "ipython3",
   "version": "3.11.0"
  }
 },
 "nbformat": 4,
 "nbformat_minor": 5
}
