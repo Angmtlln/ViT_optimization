{
 "cells": [
  {
   "cell_type": "code",
   "id": "initial_id",
   "metadata": {
    "collapsed": true,
    "ExecuteTime": {
     "end_time": "2025-07-20T18:27:56.180039Z",
     "start_time": "2025-07-20T18:27:53.574767Z"
    }
   },
   "source": [
    "import torch\n",
    "import torch.nn as nn\n",
    "import torch.nn.functional as F\n",
    "import torch.optim as optim\n",
    "from torchvision import datasets, transforms\n",
    "from torch.utils.data import DataLoader\n",
    "from transformers import DeiTForImageClassification, DeiTFeatureExtractor\n",
    "import timm\n",
    "from tqdm import tqdm\n",
    "import matplotlib.pyplot as plt"
   ],
   "outputs": [],
   "execution_count": 2
  },
  {
   "metadata": {
    "ExecuteTime": {
     "end_time": "2025-07-20T18:28:00.038690Z",
     "start_time": "2025-07-20T18:27:59.969438Z"
    }
   },
   "cell_type": "code",
   "source": "device = torch.device(\"cuda\" if torch.cuda.is_available() else \"cpu\")",
   "id": "4fc27c2567125a32",
   "outputs": [],
   "execution_count": 3
  },
  {
   "metadata": {
    "ExecuteTime": {
     "end_time": "2025-07-20T18:37:24.310371Z",
     "start_time": "2025-07-20T18:37:23.043030Z"
    }
   },
   "cell_type": "code",
   "source": [
    "teacher = DeiTForImageClassification.from_pretrained(\n",
    "    \"facebook/deit-base-distilled-patch16-224\"\n",
    ")\n",
    "teacher.classifier = nn.Linear(teacher.classifier.in_features, 10).to(device)\n",
    "teacher.to(device).eval().eval()"
   ],
   "id": "767bbe732dfc565f",
   "outputs": [
    {
     "name": "stderr",
     "output_type": "stream",
     "text": [
      "Some weights of DeiTForImageClassification were not initialized from the model checkpoint at facebook/deit-base-distilled-patch16-224 and are newly initialized: ['classifier.bias', 'classifier.weight']\n",
      "You should probably TRAIN this model on a down-stream task to be able to use it for predictions and inference.\n"
     ]
    },
    {
     "data": {
      "text/plain": [
       "DeiTForImageClassification(\n",
       "  (deit): DeiTModel(\n",
       "    (embeddings): DeiTEmbeddings(\n",
       "      (patch_embeddings): DeiTPatchEmbeddings(\n",
       "        (projection): Conv2d(3, 768, kernel_size=(16, 16), stride=(16, 16))\n",
       "      )\n",
       "      (dropout): Dropout(p=0.0, inplace=False)\n",
       "    )\n",
       "    (encoder): DeiTEncoder(\n",
       "      (layer): ModuleList(\n",
       "        (0-11): 12 x DeiTLayer(\n",
       "          (attention): DeiTAttention(\n",
       "            (attention): DeiTSelfAttention(\n",
       "              (query): Linear(in_features=768, out_features=768, bias=True)\n",
       "              (key): Linear(in_features=768, out_features=768, bias=True)\n",
       "              (value): Linear(in_features=768, out_features=768, bias=True)\n",
       "            )\n",
       "            (output): DeiTSelfOutput(\n",
       "              (dense): Linear(in_features=768, out_features=768, bias=True)\n",
       "              (dropout): Dropout(p=0.0, inplace=False)\n",
       "            )\n",
       "          )\n",
       "          (intermediate): DeiTIntermediate(\n",
       "            (dense): Linear(in_features=768, out_features=3072, bias=True)\n",
       "            (intermediate_act_fn): GELUActivation()\n",
       "          )\n",
       "          (output): DeiTOutput(\n",
       "            (dense): Linear(in_features=3072, out_features=768, bias=True)\n",
       "            (dropout): Dropout(p=0.0, inplace=False)\n",
       "          )\n",
       "          (layernorm_before): LayerNorm((768,), eps=1e-12, elementwise_affine=True)\n",
       "          (layernorm_after): LayerNorm((768,), eps=1e-12, elementwise_affine=True)\n",
       "        )\n",
       "      )\n",
       "    )\n",
       "    (layernorm): LayerNorm((768,), eps=1e-12, elementwise_affine=True)\n",
       "  )\n",
       "  (classifier): Linear(in_features=768, out_features=10, bias=True)\n",
       ")"
      ]
     },
     "execution_count": 16,
     "metadata": {},
     "output_type": "execute_result"
    }
   ],
   "execution_count": 16
  },
  {
   "metadata": {
    "ExecuteTime": {
     "end_time": "2025-07-20T19:14:42.628288Z",
     "start_time": "2025-07-20T19:14:42.052421Z"
    }
   },
   "cell_type": "code",
   "source": [
    "student = timm.create_model(\n",
    "    'tiny_vit_5m_224.dist_in22k',\n",
    "    pretrained=True,\n",
    "    num_classes=10\n",
    ").to(device)"
   ],
   "id": "53cc71a9c4e3aea3",
   "outputs": [],
   "execution_count": 23
  },
  {
   "metadata": {
    "ExecuteTime": {
     "end_time": "2025-07-20T19:14:42.949931Z",
     "start_time": "2025-07-20T19:14:42.695369Z"
    }
   },
   "cell_type": "code",
   "source": [
    "extractor = DeiTFeatureExtractor.from_pretrained(\n",
    "    \"facebook/deit-base-distilled-patch16-224\"\n",
    ")"
   ],
   "id": "41b51fa9da33ea67",
   "outputs": [],
   "execution_count": 24
  },
  {
   "metadata": {
    "ExecuteTime": {
     "end_time": "2025-07-20T18:33:48.003154Z",
     "start_time": "2025-07-20T18:33:17.328275Z"
    }
   },
   "cell_type": "code",
   "source": [
    "transform = transforms.Compose([\n",
    "    transforms.Resize((224, 224)),\n",
    "    transforms.ToTensor()\n",
    "])\n",
    "train_ds = datasets.CIFAR10(root='./../data', train=True, download=True, transform=transform)\n",
    "test_ds = datasets.CIFAR10(root='./../data', train=False, download=True, transform=transform)\n",
    "train_loader = DataLoader(train_ds, batch_size=16, shuffle=True)\n",
    "test_loader  = DataLoader(test_ds,  batch_size=32, shuffle=False)"
   ],
   "id": "a8453e35de6a1816",
   "outputs": [
    {
     "name": "stderr",
     "output_type": "stream",
     "text": [
      "100%|██████████| 170M/170M [00:27<00:00, 6.26MB/s] \n"
     ]
    }
   ],
   "execution_count": 12
  },
  {
   "metadata": {
    "ExecuteTime": {
     "end_time": "2025-07-20T19:14:44.397360Z",
     "start_time": "2025-07-20T19:14:44.391803Z"
    }
   },
   "cell_type": "code",
   "source": [
    "def distillation_loss(s_logits, t_logits, labels, T=2.0, alpha=0.7):\n",
    "    ce = F.cross_entropy(s_logits, labels)\n",
    "    kl = F.kl_div(\n",
    "        F.log_softmax(s_logits / T, dim=1),\n",
    "        F.softmax(t_logits / T, dim=1),\n",
    "        reduction=\"batchmean\"\n",
    "    ) * (T * T)\n",
    "    return alpha * ce + (1 - alpha) * kl\n",
    "\n",
    "optimizer = optim.AdamW(student.parameters(), lr=5e-5)"
   ],
   "id": "1a5eebdd2988ca3f",
   "outputs": [],
   "execution_count": 25
  },
  {
   "metadata": {
    "ExecuteTime": {
     "end_time": "2025-07-20T19:54:24.772870Z",
     "start_time": "2025-07-20T19:14:46.463943Z"
    }
   },
   "cell_type": "code",
   "source": [
    "epochs = 5\n",
    "train_losses, train_accs = [], []\n",
    "\n",
    "for ep in range(epochs):\n",
    "    student.train()\n",
    "    total_loss = correct = total = 0\n",
    "\n",
    "    for imgs, labels in tqdm(train_loader, desc=f\"Train ep{ep+1}\"):\n",
    "        labels = labels.to(device)\n",
    "        pil_imgs = [transforms.ToPILImage()(img) for img in imgs]\n",
    "\n",
    "        inputs = extractor(images=pil_imgs, return_tensors=\"pt\")\n",
    "        pixel_values = inputs['pixel_values'].to(device)\n",
    "\n",
    "        with torch.no_grad():\n",
    "            t_logits = teacher(pixel_values=pixel_values).logits\n",
    "\n",
    "        s_logits = student(pixel_values)\n",
    "        loss = distillation_loss(s_logits, t_logits, labels)\n",
    "\n",
    "        optimizer.zero_grad()\n",
    "        loss.backward()\n",
    "        optimizer.step()\n",
    "\n",
    "        total_loss += loss.item()\n",
    "        preds = s_logits.argmax(dim=1)\n",
    "        correct += (preds == labels).sum().item()\n",
    "        total += labels.size(0)\n",
    "\n",
    "    avg_loss = total_loss / len(train_loader)\n",
    "    avg_acc = 100 * correct / total\n",
    "    train_losses.append(avg_loss)\n",
    "    train_accs.append(avg_acc)\n",
    "    print(f\"Epoch {ep+1}: Loss={avg_loss:.4f}, Acc={avg_acc:.2f}%\")"
   ],
   "id": "de7180ff502eedfc",
   "outputs": [
    {
     "name": "stderr",
     "output_type": "stream",
     "text": [
      "Train ep1: 100%|██████████| 3125/3125 [07:09<00:00,  7.27it/s]\n"
     ]
    },
    {
     "name": "stdout",
     "output_type": "stream",
     "text": [
      "Epoch 1: Loss=0.6667, Acc=88.13%\n"
     ]
    },
    {
     "name": "stderr",
     "output_type": "stream",
     "text": [
      "Train ep2: 100%|██████████| 3125/3125 [06:51<00:00,  7.60it/s]\n"
     ]
    },
    {
     "name": "stdout",
     "output_type": "stream",
     "text": [
      "Epoch 2: Loss=0.5100, Acc=96.24%\n"
     ]
    },
    {
     "name": "stderr",
     "output_type": "stream",
     "text": [
      "Train ep3: 100%|██████████| 3125/3125 [06:54<00:00,  7.54it/s]\n"
     ]
    },
    {
     "name": "stdout",
     "output_type": "stream",
     "text": [
      "Epoch 3: Loss=0.4836, Acc=97.77%\n"
     ]
    },
    {
     "name": "stderr",
     "output_type": "stream",
     "text": [
      "Train ep4: 100%|██████████| 3125/3125 [06:53<00:00,  7.55it/s]\n"
     ]
    },
    {
     "name": "stdout",
     "output_type": "stream",
     "text": [
      "Epoch 4: Loss=0.4702, Acc=98.46%\n"
     ]
    },
    {
     "name": "stderr",
     "output_type": "stream",
     "text": [
      "Train ep5: 100%|██████████| 3125/3125 [11:48<00:00,  4.41it/s]"
     ]
    },
    {
     "name": "stdout",
     "output_type": "stream",
     "text": [
      "Epoch 5: Loss=0.4612, Acc=99.02%\n"
     ]
    },
    {
     "name": "stderr",
     "output_type": "stream",
     "text": [
      "\n"
     ]
    }
   ],
   "execution_count": 26
  },
  {
   "metadata": {
    "ExecuteTime": {
     "end_time": "2025-07-20T19:54:43.584536Z",
     "start_time": "2025-07-20T19:54:43.050088Z"
    }
   },
   "cell_type": "code",
   "source": [
    "epochs_list = list(range(1, epochs+1))\n",
    "plt.figure(figsize=(12,4))\n",
    "plt.subplot(1,2,1)\n",
    "plt.plot(epochs_list, train_losses, '-o')\n",
    "plt.title(\"Training Loss\")\n",
    "plt.xlabel(\"Epoch\"); plt.ylabel(\"Loss\")\n",
    "plt.subplot(1,2,2)\n",
    "plt.plot(epochs_list, train_accs, '-o', color='green')\n",
    "plt.title(\"Training Accuracy\")\n",
    "plt.xlabel(\"Epoch\"); plt.ylabel(\"Acc (%)\")\n",
    "plt.tight_layout()\n",
    "plt.show()"
   ],
   "id": "719d024e817582c5",
   "outputs": [
    {
     "data": {
      "text/plain": [
       "<Figure size 1200x400 with 2 Axes>"
      ],
      "image/png": "[encoded data removed]"
     },
     "metadata": {},
     "output_type": "display_data"
    }
   ],
   "execution_count": 27
  },
  {
   "metadata": {
    "ExecuteTime": {
     "end_time": "2025-07-20T19:57:06.263007Z",
     "start_time": "2025-07-20T19:56:15.019775Z"
    }
   },
   "cell_type": "code",
   "source": [
    "student.eval()\n",
    "correct = total = 0\n",
    "with torch.no_grad():\n",
    "    for imgs, labels in tqdm(test_loader, desc=\"Test\"):\n",
    "        labels = labels.to(device)\n",
    "        pil_imgs = [transforms.ToPILImage()(img) for img in imgs]\n",
    "        inputs = extractor(images=pil_imgs, return_tensors=\"pt\").to(device)\n",
    "\n",
    "        pixel_values = inputs[\"pixel_values\"].to(device)\n",
    "\n",
    "        s_logits = student(pixel_values)\n",
    "        preds = s_logits.argmax(dim=1)\n",
    "        correct += (preds == labels).sum().item()\n",
    "\n",
    "        total += labels.size(0)\n",
    "\n",
    "print(f\"\\n🎯 Final Test Accuracy: {100 * correct / total:.2f}%\")"
   ],
   "id": "f93e5e8690cd911d",
   "outputs": [
    {
     "name": "stderr",
     "output_type": "stream",
     "text": [
      "Test: 100%|██████████| 313/313 [00:51<00:00,  6.11it/s]"
     ]
    },
    {
     "name": "stdout",
     "output_type": "stream",
     "text": [
      "\n",
      "🎯 Final Test Accuracy: 97.17%\n"
     ]
    },
    {
     "name": "stderr",
     "output_type": "stream",
     "text": [
      "\n"
     ]
    }
   ],
   "execution_count": 31
  },
  {
   "metadata": {},
   "cell_type": "code",
   "outputs": [],
   "execution_count": null,
   "source": "",
   "id": "461e473cd224d6c8"
  }
 ],
 "metadata": {
  "kernelspec": {
   "display_name": "Python 3",
   "language": "python",
   "name": "python3"
  },
  "language_info": {
   "codemirror_mode": {
    "name": "ipython",
    "version": 2
   },
   "file_extension": ".py",
   "mimetype": "text/x-python",
   "name": "python",
   "nbconvert_exporter": "python",
   "pygments_lexer": "ipython2",
   "version": "2.7.6"
  }
 },
 "nbformat": 4,
 "nbformat_minor": 5
}
