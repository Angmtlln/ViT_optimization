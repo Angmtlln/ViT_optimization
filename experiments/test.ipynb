{
 "cells": [
  {
   "cell_type": "code",
   "id": "initial_id",
   "metadata": {
    "collapsed": true,
    "ExecuteTime": {
     "end_time": "2025-07-27T14:16:06.583226Z",
     "start_time": "2025-07-27T14:15:57.977288Z"
    }
   },
   "source": [
    "from torchvision.datasets import CIFAR10\n",
    "from ffcv.writer import DatasetWriter\n",
    "from ffcv.fields import RGBImageField, IntField\n",
    "from torch.utils.data import Subset\n",
    "import os\n",
    "\n",
    "\n",
    "write_path = '/tmp/cifar10_train.beton'\n",
    "\n",
    "\n",
    "cifar_train = CIFAR10(root='./data', train=True, download=True)\n",
    "\n",
    "\n",
    "dataset = Subset(cifar_train, range(len(cifar_train)))\n",
    "\n",
    "\n",
    "writer = DatasetWriter(write_path, {\n",
    "    'image': RGBImageField(max_resolution=32),\n",
    "    'label': IntField()\n",
    "})\n",
    "\n",
    "\n",
    "writer.from_indexed_dataset(dataset)"
   ],
   "outputs": [
    {
     "name": "stderr",
     "output_type": "stream",
     "text": [
      "/home/amir_ubuntu/.virtualenvs/transformer-model-optimization/lib/python3.12/site-packages/tqdm/auto.py:21: TqdmWarning: IProgress not found. Please update jupyter and ipywidgets. See https://ipywidgets.readthedocs.io/en/stable/user_install.html\n",
      "  from .autonotebook import tqdm as notebook_tqdm\n",
      "100%|██████████| 50000/50000 [00:01<00:00, 34926.00it/s]\n"
     ]
    }
   ],
   "execution_count": 1
  },
  {
   "metadata": {
    "ExecuteTime": {
     "end_time": "2025-07-27T14:16:14.920474Z",
     "start_time": "2025-07-27T14:16:14.427213Z"
    }
   },
   "cell_type": "code",
   "source": [
    "from ffcv.loader import Loader, OrderOption\n",
    "from ffcv.transforms import ToTensor, ToDevice, ToTorchImage, Convert\n",
    "from ffcv.fields.decoders import IntDecoder, SimpleRGBImageDecoder\n",
    "import torch\n",
    "import torchvision.transforms as T\n",
    "\n",
    "device = torch.device('cuda' if torch.cuda.is_available() else 'cpu')\n",
    "\n",
    "\n",
    "beton_path = '/tmp/cifar10_train.beton'\n",
    "\n",
    "\n",
    "train_loader = Loader(\n",
    "    beton_path,\n",
    "    batch_size=128,\n",
    "    num_workers=4,\n",
    "    order=OrderOption.RANDOM,\n",
    "    drop_last=True,\n",
    "    pipelines={\n",
    "        'image': [\n",
    "            SimpleRGBImageDecoder(),\n",
    "            ToTensor(),\n",
    "            ToDevice(device),\n",
    "            ToTorchImage(),\n",
    "            Convert(torch.float32),\n",
    "        ],\n",
    "        'label': [\n",
    "            IntDecoder(),\n",
    "            ToTensor(),\n",
    "            ToDevice(device),\n",
    "            Convert(torch.long)\n",
    "        ]\n",
    "    }\n",
    ")\n"
   ],
   "id": "4adce6b05f0fba3e",
   "outputs": [],
   "execution_count": 2
  },
  {
   "metadata": {
    "ExecuteTime": {
     "end_time": "2025-07-27T14:16:50.110588Z",
     "start_time": "2025-07-27T14:16:49.587847Z"
    }
   },
   "cell_type": "code",
   "source": "!pip install timm",
   "id": "f4cc4a15f5cfb871",
   "outputs": [
    {
     "name": "stdout",
     "output_type": "stream",
     "text": [
      "/bin/bash: warning: setlocale: LC_ALL: cannot change locale (en_US.UTF-8)\r\n",
      "\u001B[1;31merror\u001B[0m: \u001B[1mexternally-managed-environment\u001B[0m\r\n",
      "\r\n",
      "\u001B[31m×\u001B[0m This environment is externally managed\r\n",
      "\u001B[31m╰─>\u001B[0m To install Python packages system-wide, try apt install\r\n",
      "\u001B[31m   \u001B[0m python3-xyz, where xyz is the package you are trying to\r\n",
      "\u001B[31m   \u001B[0m install.\r\n",
      "\u001B[31m   \u001B[0m \r\n",
      "\u001B[31m   \u001B[0m If you wish to install a non-Debian-packaged Python package,\r\n",
      "\u001B[31m   \u001B[0m create a virtual environment using python3 -m venv path/to/venv.\r\n",
      "\u001B[31m   \u001B[0m Then use path/to/venv/bin/python and path/to/venv/bin/pip. Make\r\n",
      "\u001B[31m   \u001B[0m sure you have python3-full installed.\r\n",
      "\u001B[31m   \u001B[0m \r\n",
      "\u001B[31m   \u001B[0m If you wish to install a non-Debian packaged Python application,\r\n",
      "\u001B[31m   \u001B[0m it may be easiest to use pipx install xyz, which will manage a\r\n",
      "\u001B[31m   \u001B[0m virtual environment for you. Make sure you have pipx installed.\r\n",
      "\u001B[31m   \u001B[0m \r\n",
      "\u001B[31m   \u001B[0m See /usr/share/doc/python3.12/README.venv for more information.\r\n",
      "\r\n",
      "\u001B[1;35mnote\u001B[0m: If you believe this is a mistake, please contact your Python installation or OS distribution provider. You can override this, at the risk of breaking your Python installation or OS, by passing --break-system-packages.\r\n",
      "\u001B[1;36mhint\u001B[0m: See PEP 668 for the detailed specification.\r\n"
     ]
    }
   ],
   "execution_count": 3
  },
  {
   "metadata": {
    "ExecuteTime": {
     "end_time": "2025-07-27T14:16:56.279770Z",
     "start_time": "2025-07-27T14:16:54.847604Z"
    }
   },
   "cell_type": "code",
   "source": [
    "import timm\n",
    "import torch.nn as nn\n",
    "\n",
    "\n",
    "model = timm.create_model('deit_small_patch16_224', pretrained=True)\n",
    "model.head = nn.Linear(model.head.in_features, 10)\n",
    "model = model.to(device)"
   ],
   "id": "357da6e19cda1787",
   "outputs": [],
   "execution_count": 4
  },
  {
   "metadata": {
    "ExecuteTime": {
     "end_time": "2025-07-27T14:19:33.540968Z",
     "start_time": "2025-07-27T14:19:33.453471Z"
    }
   },
   "cell_type": "code",
   "source": [
    "from ffcv.transforms import RandomResizedCrop, RandomHorizontalFlip\n",
    "from ffcv.transforms import ToTensor, ToDevice, ToTorchImage, Convert\n",
    "from ffcv.fields.decoders import IntDecoder, SimpleRGBImageDecoder\n",
    "from ffcv.loader import Loader, OrderOption\n",
    "from ffcv.loader import Loader, OrderOption\n",
    "from ffcv.transforms import ToTensor, ToDevice, ToTorchImage, Cutout\n",
    "from ffcv.fields.decoders import IntDecoder, RandomResizedCropRGBImageDecoder\n",
    "from torch import float32\n",
    "\n",
    "\n",
    "image_pipeline = [\n",
    "    RandomResizedCropRGBImageDecoder((224, 224)),\n",
    "    Cutout(16),\n",
    "    ToTensor(),\n",
    "    ToTorchImage(),\n",
    "    Convert(float32),\n",
    "    ToDevice(device)\n",
    "]\n",
    "\n",
    "label_pipeline = [\n",
    "    IntDecoder(),\n",
    "    ToTensor(),\n",
    "    ToDevice(device)\n",
    "]\n",
    "\n",
    "train_loader = Loader(\n",
    "    './data/cifar10_train.beton',\n",
    "    batch_size=128,\n",
    "    num_workers=4,\n",
    "    order=OrderOption.RANDOM,\n",
    "    drop_last=True,\n",
    "    pipelines={\n",
    "        'image': image_pipeline,\n",
    "        'label': label_pipeline\n",
    "    }\n",
    ")\n"
   ],
   "id": "57b49d80dabace63",
   "outputs": [],
   "execution_count": 13
  },
  {
   "metadata": {
    "ExecuteTime": {
     "end_time": "2025-07-28T03:20:36.373769Z",
     "start_time": "2025-07-27T14:20:10.354951Z"
    }
   },
   "cell_type": "code",
   "source": [
    "import torch.nn.functional as F\n",
    "import torch.optim as optim\n",
    "from tqdm import tqdm\n",
    "\n",
    "optimizer = optim.AdamW(model.parameters(), lr=5e-4, weight_decay=0.05)\n",
    "criterion = nn.CrossEntropyLoss()\n",
    "\n",
    "for epoch in range(10):\n",
    "    model.train()\n",
    "    total_loss = 0\n",
    "    correct = 0\n",
    "    total = 0\n",
    "\n",
    "    for images, labels in tqdm(train_loader, desc=f\"Epoch {epoch+1}\"):\n",
    "        optimizer.zero_grad()\n",
    "        labels = labels.squeeze(1)  # Убираем размерность 1, превращаем в [128]\n",
    "        output = model(images)\n",
    "        loss = criterion(output, labels)\n",
    "        loss.backward()\n",
    "        optimizer.step()\n",
    "\n",
    "        total_loss += loss.item()\n",
    "        _, pred = output.max(1)\n",
    "        correct += pred.eq(labels).sum().item()\n",
    "        total += labels.size(0)\n",
    "\n",
    "    acc = 100. * correct / total\n",
    "    print(f\"Train loss: {total_loss:.3f}, Accuracy: {acc:.2f}%\")\n"
   ],
   "id": "2ba81d12a0b69a0",
   "outputs": [
    {
     "name": "stderr",
     "output_type": "stream",
     "text": [
      "Epoch 1: 100%|██████████| 390/390 [1:22:05<00:00, 12.63s/it]\n"
     ]
    },
    {
     "name": "stdout",
     "output_type": "stream",
     "text": [
      "Train loss: 786.403, Accuracy: 24.54%\n"
     ]
    },
    {
     "name": "stderr",
     "output_type": "stream",
     "text": [
      "Epoch 2: 100%|██████████| 390/390 [1:15:29<00:00, 11.61s/it]\n"
     ]
    },
    {
     "name": "stdout",
     "output_type": "stream",
     "text": [
      "Train loss: 664.648, Accuracy: 37.61%\n"
     ]
    },
    {
     "name": "stderr",
     "output_type": "stream",
     "text": [
      "Epoch 3: 100%|██████████| 390/390 [1:18:25<00:00, 12.06s/it]\n"
     ]
    },
    {
     "name": "stdout",
     "output_type": "stream",
     "text": [
      "Train loss: 616.595, Accuracy: 42.72%\n"
     ]
    },
    {
     "name": "stderr",
     "output_type": "stream",
     "text": [
      "Epoch 4: 100%|██████████| 390/390 [1:15:24<00:00, 11.60s/it]\n"
     ]
    },
    {
     "name": "stdout",
     "output_type": "stream",
     "text": [
      "Train loss: 582.094, Accuracy: 46.19%\n"
     ]
    },
    {
     "name": "stderr",
     "output_type": "stream",
     "text": [
      "Epoch 5: 100%|██████████| 390/390 [1:19:55<00:00, 12.30s/it]\n"
     ]
    },
    {
     "name": "stdout",
     "output_type": "stream",
     "text": [
      "Train loss: 561.631, Accuracy: 48.05%\n"
     ]
    },
    {
     "name": "stderr",
     "output_type": "stream",
     "text": [
      "Epoch 6: 100%|██████████| 390/390 [1:16:20<00:00, 11.75s/it]\n"
     ]
    },
    {
     "name": "stdout",
     "output_type": "stream",
     "text": [
      "Train loss: 543.314, Accuracy: 49.83%\n"
     ]
    },
    {
     "name": "stderr",
     "output_type": "stream",
     "text": [
      "Epoch 7: 100%|██████████| 390/390 [1:20:41<00:00, 12.41s/it]\n"
     ]
    },
    {
     "name": "stdout",
     "output_type": "stream",
     "text": [
      "Train loss: 531.661, Accuracy: 51.54%\n"
     ]
    },
    {
     "name": "stderr",
     "output_type": "stream",
     "text": [
      "Epoch 8: 100%|██████████| 390/390 [1:16:23<00:00, 11.75s/it]\n"
     ]
    },
    {
     "name": "stdout",
     "output_type": "stream",
     "text": [
      "Train loss: 515.303, Accuracy: 52.59%\n"
     ]
    },
    {
     "name": "stderr",
     "output_type": "stream",
     "text": [
      "Epoch 9: 100%|██████████| 390/390 [1:19:19<00:00, 12.20s/it]\n"
     ]
    },
    {
     "name": "stdout",
     "output_type": "stream",
     "text": [
      "Train loss: 509.312, Accuracy: 53.27%\n"
     ]
    },
    {
     "name": "stderr",
     "output_type": "stream",
     "text": [
      "Epoch 10: 100%|██████████| 390/390 [1:16:21<00:00, 11.75s/it]"
     ]
    },
    {
     "name": "stdout",
     "output_type": "stream",
     "text": [
      "Train loss: 498.352, Accuracy: 54.11%\n"
     ]
    },
    {
     "name": "stderr",
     "output_type": "stream",
     "text": [
      "\n"
     ]
    }
   ],
   "execution_count": 15
  },
  {
   "metadata": {},
   "cell_type": "code",
   "outputs": [],
   "execution_count": null,
   "source": "",
   "id": "6cf913232ff82fc9"
  }
 ],
 "metadata": {
  "kernelspec": {
   "display_name": "Python 3",
   "language": "python",
   "name": "python3"
  },
  "language_info": {
   "codemirror_mode": {
    "name": "ipython",
    "version": 2
   },
   "file_extension": ".py",
   "mimetype": "text/x-python",
   "name": "python",
   "nbconvert_exporter": "python",
   "pygments_lexer": "ipython2",
   "version": "2.7.6"
  }
 },
 "nbformat": 4,
 "nbformat_minor": 5
}
