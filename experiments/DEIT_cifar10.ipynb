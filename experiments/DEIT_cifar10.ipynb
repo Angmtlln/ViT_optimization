{
 "cells": [
  {
   "cell_type": "code",
   "id": "initial_id",
   "metadata": {
    "collapsed": true,
    "ExecuteTime": {
     "end_time": "2025-07-17T19:27:42.160392Z",
     "start_time": "2025-07-17T19:27:42.156967Z"
    }
   },
   "source": [
    "from transformers import DeiTForImageClassification, DeiTFeatureExtractor\n",
    "import torch\n",
    "import torch.nn as nn\n",
    "import torchvision\n",
    "from torchvision import datasets, transforms\n",
    "from torch.utils.data import DataLoader\n",
    "import torchvision.transforms as transforms\n",
    "import timm\n",
    "from tqdm import tqdm"
   ],
   "outputs": [],
   "execution_count": 49
  },
  {
   "metadata": {
    "ExecuteTime": {
     "end_time": "2025-07-17T19:27:42.449694Z",
     "start_time": "2025-07-17T19:27:42.444671Z"
    }
   },
   "cell_type": "code",
   "source": "torch.cuda.is_available()",
   "id": "d6da442ff25c38f8",
   "outputs": [
    {
     "data": {
      "text/plain": [
       "True"
      ]
     },
     "execution_count": 50,
     "metadata": {},
     "output_type": "execute_result"
    }
   ],
   "execution_count": 50
  },
  {
   "metadata": {
    "ExecuteTime": {
     "end_time": "2025-07-17T19:27:42.722847Z",
     "start_time": "2025-07-17T19:27:42.719175Z"
    }
   },
   "cell_type": "code",
   "source": "device = torch.device(\"cuda\" if torch.cuda.is_available() else \"cpu\")",
   "id": "d3104827435dc1eb",
   "outputs": [],
   "execution_count": 51
  },
  {
   "metadata": {},
   "cell_type": "markdown",
   "source": "## Model",
   "id": "85fad073da1e1340"
  },
  {
   "metadata": {
    "ExecuteTime": {
     "end_time": "2025-07-17T19:27:45.252392Z",
     "start_time": "2025-07-17T19:27:43.870585Z"
    }
   },
   "cell_type": "code",
   "source": [
    "model = DeiTForImageClassification.from_pretrained(\"facebook/deit-base-distilled-patch16-224\", attn_implementation=\"sdpa\", torch_dtype=torch.float32)\n",
    "model.classifier = nn.Linear(model.classifier.in_features, 10)\n",
    "model = model.to(\"cuda\")"
   ],
   "id": "52932d78275c3cde",
   "outputs": [
    {
     "name": "stderr",
     "output_type": "stream",
     "text": [
      "Some weights of DeiTForImageClassification were not initialized from the model checkpoint at facebook/deit-base-distilled-patch16-224 and are newly initialized: ['classifier.bias', 'classifier.weight']\n",
      "You should probably TRAIN this model on a down-stream task to be able to use it for predictions and inference.\n"
     ]
    }
   ],
   "execution_count": 52
  },
  {
   "metadata": {
    "ExecuteTime": {
     "end_time": "2025-07-17T19:27:46.000550Z",
     "start_time": "2025-07-17T19:27:45.744687Z"
    }
   },
   "cell_type": "code",
   "source": "extractor = DeiTFeatureExtractor.from_pretrained(\"facebook/deit-base-distilled-patch16-224\")",
   "id": "74ba8549ace51507",
   "outputs": [],
   "execution_count": 53
  },
  {
   "metadata": {},
   "cell_type": "markdown",
   "source": "## Dataset",
   "id": "75a8bb141033bca"
  },
  {
   "metadata": {
    "ExecuteTime": {
     "end_time": "2025-07-17T19:27:49.621048Z",
     "start_time": "2025-07-17T19:27:49.618098Z"
    }
   },
   "cell_type": "code",
   "source": [
    "transform = transforms.Compose([\n",
    "    transforms.Resize((224, 224)),\n",
    "    transforms.ToTensor()\n",
    "])"
   ],
   "id": "d219469789798f49",
   "outputs": [],
   "execution_count": 54
  },
  {
   "metadata": {
    "ExecuteTime": {
     "end_time": "2025-07-17T19:27:51.040541Z",
     "start_time": "2025-07-17T19:27:50.345034Z"
    }
   },
   "cell_type": "code",
   "source": [
    "train_dataset = datasets.CIFAR10(root='./data', train=True, download=True, transform=transform)\n",
    "train_loader = DataLoader(train_dataset, batch_size=16, shuffle=True)"
   ],
   "id": "a9e30c6bb4a7957e",
   "outputs": [],
   "execution_count": 55
  },
  {
   "metadata": {},
   "cell_type": "markdown",
   "source": "## Training",
   "id": "1349824d4f7b526b"
  },
  {
   "metadata": {
    "ExecuteTime": {
     "end_time": "2025-07-17T19:27:51.888365Z",
     "start_time": "2025-07-17T19:27:51.885549Z"
    }
   },
   "cell_type": "code",
   "source": "import torch.optim as optim",
   "id": "efef893da17770a0",
   "outputs": [],
   "execution_count": 56
  },
  {
   "metadata": {
    "ExecuteTime": {
     "end_time": "2025-07-17T19:27:52.438407Z",
     "start_time": "2025-07-17T19:27:52.433700Z"
    }
   },
   "cell_type": "code",
   "source": [
    "criterion = nn.CrossEntropyLoss()\n",
    "optimizer = optim.AdamW(model.parameters(), lr=5e-5)"
   ],
   "id": "745be0037e145d1e",
   "outputs": [],
   "execution_count": 57
  },
  {
   "metadata": {
    "ExecuteTime": {
     "end_time": "2025-07-17T19:59:27.752077Z",
     "start_time": "2025-07-17T19:27:52.848416Z"
    }
   },
   "cell_type": "code",
   "source": [
    "model.train()\n",
    "for epoch in range(3):\n",
    "    running_loss = 0.0\n",
    "    for images, labels in tqdm(train_loader):\n",
    "        pil_images = [transforms.ToPILImage()(img) for img in images]\n",
    "        inputs = extractor(images=pil_images, return_tensors=\"pt\").to(device)\n",
    "        labels = labels.to(device)\n",
    "\n",
    "        outputs = model(**inputs)\n",
    "        loss = criterion(outputs.logits, labels)\n",
    "\n",
    "        optimizer.zero_grad()\n",
    "        loss.backward()\n",
    "        optimizer.step()\n",
    "\n",
    "        running_loss += loss.item()\n",
    "    print(f\"Epoch {epoch+1}: Loss = {running_loss/len(train_loader):.4f}\")"
   ],
   "id": "f5626cce397af980",
   "outputs": [
    {
     "name": "stderr",
     "output_type": "stream",
     "text": [
      "100%|██████████| 3125/3125 [10:30<00:00,  4.96it/s]\n"
     ]
    },
    {
     "name": "stdout",
     "output_type": "stream",
     "text": [
      "Epoch 1: Loss = 0.1434\n"
     ]
    },
    {
     "name": "stderr",
     "output_type": "stream",
     "text": [
      "100%|██████████| 3125/3125 [10:31<00:00,  4.94it/s]\n"
     ]
    },
    {
     "name": "stdout",
     "output_type": "stream",
     "text": [
      "Epoch 2: Loss = 0.0551\n"
     ]
    },
    {
     "name": "stderr",
     "output_type": "stream",
     "text": [
      "100%|██████████| 3125/3125 [10:32<00:00,  4.94it/s]"
     ]
    },
    {
     "name": "stdout",
     "output_type": "stream",
     "text": [
      "Epoch 3: Loss = 0.0398\n"
     ]
    },
    {
     "name": "stderr",
     "output_type": "stream",
     "text": [
      "\n"
     ]
    }
   ],
   "execution_count": 58
  },
  {
   "metadata": {},
   "cell_type": "markdown",
   "source": "## Test",
   "id": "841316031346b8e7"
  },
  {
   "metadata": {
    "ExecuteTime": {
     "end_time": "2025-07-17T20:00:29.132177Z",
     "start_time": "2025-07-17T20:00:28.472106Z"
    }
   },
   "cell_type": "code",
   "source": [
    "test_dataset = datasets.CIFAR10(root='./data', train=False, download=True, transform=transform)\n",
    "test_loader = DataLoader(test_dataset, batch_size=32, shuffle=False)"
   ],
   "id": "4a53f599856f5ea9",
   "outputs": [],
   "execution_count": 61
  },
  {
   "metadata": {
    "ExecuteTime": {
     "end_time": "2025-07-17T20:00:28.421462Z",
     "start_time": "2025-07-17T19:59:28.684810Z"
    }
   },
   "cell_type": "code",
   "source": [
    "model.eval()\n",
    "correct = 0\n",
    "total = 0\n",
    "\n",
    "with torch.no_grad():\n",
    "    for x, y in tqdm(test_loader):\n",
    "        pil_images = [transforms.ToPILImage()(img) for img in x]\n",
    "        inputs = extractor(images=pil_images, return_tensors=\"pt\").to(device)\n",
    "        y = y.to(device)\n",
    "\n",
    "        outputs = model(**inputs)\n",
    "        preds = outputs.logits.argmax(dim=1)\n",
    "\n",
    "        correct += (preds == y).sum().item()\n",
    "        total += y.size(0)\n",
    "\n",
    "print(f\"\\n🎯 Accuracy on CIFAR-10 test set: {100 * correct / total:.2f}%\")"
   ],
   "id": "593095a931791a5d",
   "outputs": [
    {
     "name": "stderr",
     "output_type": "stream",
     "text": [
      "100%|██████████| 313/313 [00:59<00:00,  5.24it/s]"
     ]
    },
    {
     "name": "stdout",
     "output_type": "stream",
     "text": [
      "\n",
      "🎯 Accuracy on CIFAR-10 test set: 96.74%\n"
     ]
    },
    {
     "name": "stderr",
     "output_type": "stream",
     "text": [
      "\n"
     ]
    }
   ],
   "execution_count": 60
  },
  {
   "metadata": {},
   "cell_type": "code",
   "outputs": [],
   "execution_count": null,
   "source": "",
   "id": "e02dc1fb9b8c899b"
  }
 ],
 "metadata": {
  "kernelspec": {
   "display_name": "Python 3",
   "language": "python",
   "name": "python3"
  },
  "language_info": {
   "codemirror_mode": {
    "name": "ipython",
    "version": 2
   },
   "file_extension": ".py",
   "mimetype": "text/x-python",
   "name": "python",
   "nbconvert_exporter": "python",
   "pygments_lexer": "ipython2",
   "version": "2.7.6"
  }
 },
 "nbformat": 4,
 "nbformat_minor": 5
}
