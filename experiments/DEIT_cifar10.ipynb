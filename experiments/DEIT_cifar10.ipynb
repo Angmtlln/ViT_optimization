{
 "cells": [
  {
   "cell_type": "code",
   "id": "initial_id",
   "metadata": {
    "collapsed": true,
    "ExecuteTime": {
     "end_time": "2025-07-19T15:53:16.764085Z",
     "start_time": "2025-07-19T15:53:10.569002Z"
    }
   },
   "source": [
    "from transformers import DeiTForImageClassification, DeiTFeatureExtractor\n",
    "import torch\n",
    "import torch.nn as nn\n",
    "import torchvision\n",
    "from torchvision import datasets, transforms\n",
    "from torch.utils.data import DataLoader\n",
    "import torchvision.transforms as transforms\n",
    "import timm\n",
    "from tqdm import tqdm\n",
    "import matplotlib.pyplot as plt"
   ],
   "outputs": [
    {
     "name": "stderr",
     "output_type": "stream",
     "text": [
      "C:\\Users\\amirn\\PycharmProjects\\DS_builder\\.venv\\Lib\\site-packages\\tqdm\\auto.py:21: TqdmWarning: IProgress not found. Please update jupyter and ipywidgets. See https://ipywidgets.readthedocs.io/en/stable/user_install.html\n",
      "  from .autonotebook import tqdm as notebook_tqdm\n"
     ]
    }
   ],
   "execution_count": 1
  },
  {
   "metadata": {
    "ExecuteTime": {
     "end_time": "2025-07-19T15:53:17.813261Z",
     "start_time": "2025-07-19T15:53:17.753062Z"
    }
   },
   "cell_type": "code",
   "source": "torch.cuda.is_available()",
   "id": "d6da442ff25c38f8",
   "outputs": [
    {
     "data": {
      "text/plain": [
       "True"
      ]
     },
     "execution_count": 2,
     "metadata": {},
     "output_type": "execute_result"
    }
   ],
   "execution_count": 2
  },
  {
   "metadata": {
    "ExecuteTime": {
     "end_time": "2025-07-19T15:53:18.642083Z",
     "start_time": "2025-07-19T15:53:18.638877Z"
    }
   },
   "cell_type": "code",
   "source": "device = torch.device(\"cuda\" if torch.cuda.is_available() else \"cpu\")",
   "id": "d3104827435dc1eb",
   "outputs": [],
   "execution_count": 3
  },
  {
   "metadata": {},
   "cell_type": "markdown",
   "source": "## Model",
   "id": "85fad073da1e1340"
  },
  {
   "metadata": {
    "ExecuteTime": {
     "end_time": "2025-07-19T15:53:23.247853Z",
     "start_time": "2025-07-19T15:53:21.650356Z"
    }
   },
   "cell_type": "code",
   "source": [
    "model = DeiTForImageClassification.from_pretrained(\"facebook/deit-base-distilled-patch16-224\", attn_implementation=\"sdpa\", torch_dtype=torch.float32)\n",
    "model.classifier = nn.Linear(model.classifier.in_features, 10)\n",
    "model = model.to(\"cuda\")"
   ],
   "id": "52932d78275c3cde",
   "outputs": [
    {
     "name": "stderr",
     "output_type": "stream",
     "text": [
      "Some weights of DeiTForImageClassification were not initialized from the model checkpoint at facebook/deit-base-distilled-patch16-224 and are newly initialized: ['classifier.bias', 'classifier.weight']\n",
      "You should probably TRAIN this model on a down-stream task to be able to use it for predictions and inference.\n"
     ]
    }
   ],
   "execution_count": 4
  },
  {
   "metadata": {
    "ExecuteTime": {
     "end_time": "2025-07-19T15:53:24.443030Z",
     "start_time": "2025-07-19T15:53:24.191074Z"
    }
   },
   "cell_type": "code",
   "source": "extractor = DeiTFeatureExtractor.from_pretrained(\"facebook/deit-base-distilled-patch16-224\")",
   "id": "74ba8549ace51507",
   "outputs": [
    {
     "name": "stderr",
     "output_type": "stream",
     "text": [
      "C:\\Users\\amirn\\PycharmProjects\\DS_builder\\.venv\\Lib\\site-packages\\transformers\\models\\deit\\feature_extraction_deit.py:30: FutureWarning: The class DeiTFeatureExtractor is deprecated and will be removed in version 5 of Transformers. Please use DeiTImageProcessor instead.\n",
      "  warnings.warn(\n"
     ]
    }
   ],
   "execution_count": 5
  },
  {
   "metadata": {},
   "cell_type": "markdown",
   "source": "## Dataset",
   "id": "75a8bb141033bca"
  },
  {
   "metadata": {
    "ExecuteTime": {
     "end_time": "2025-07-19T15:53:25.983066Z",
     "start_time": "2025-07-19T15:53:25.980056Z"
    }
   },
   "cell_type": "code",
   "source": [
    "transform = transforms.Compose([\n",
    "    transforms.Resize((224, 224)),\n",
    "    transforms.ToTensor()\n",
    "])"
   ],
   "id": "d219469789798f49",
   "outputs": [],
   "execution_count": 6
  },
  {
   "metadata": {
    "ExecuteTime": {
     "end_time": "2025-07-19T15:54:09.426668Z",
     "start_time": "2025-07-19T15:53:26.682485Z"
    }
   },
   "cell_type": "code",
   "source": [
    "train_dataset = datasets.CIFAR10(root='./data', train=True, download=True, transform=transform)\n",
    "train_loader = DataLoader(train_dataset, batch_size=16, shuffle=True)"
   ],
   "id": "a9e30c6bb4a7957e",
   "outputs": [
    {
     "name": "stderr",
     "output_type": "stream",
     "text": [
      "100%|██████████| 170M/170M [00:39<00:00, 4.27MB/s] \n"
     ]
    }
   ],
   "execution_count": 7
  },
  {
   "metadata": {},
   "cell_type": "markdown",
   "source": "## Training",
   "id": "1349824d4f7b526b"
  },
  {
   "metadata": {
    "ExecuteTime": {
     "end_time": "2025-07-19T15:55:31.603843Z",
     "start_time": "2025-07-19T15:55:31.600541Z"
    }
   },
   "cell_type": "code",
   "source": "import torch.optim as optim",
   "id": "efef893da17770a0",
   "outputs": [],
   "execution_count": 8
  },
  {
   "metadata": {
    "ExecuteTime": {
     "end_time": "2025-07-19T15:55:31.969050Z",
     "start_time": "2025-07-19T15:55:31.964806Z"
    }
   },
   "cell_type": "code",
   "source": [
    "criterion = nn.CrossEntropyLoss()\n",
    "optimizer = optim.AdamW(model.parameters(), lr=5e-5)"
   ],
   "id": "745be0037e145d1e",
   "outputs": [],
   "execution_count": 9
  },
  {
   "metadata": {
    "ExecuteTime": {
     "end_time": "2025-07-19T16:27:34.413030Z",
     "start_time": "2025-07-19T15:55:32.355239Z"
    }
   },
   "cell_type": "code",
   "source": [
    "train_losses = []\n",
    "train_accuracies = []\n",
    "\n",
    "model.train()\n",
    "for epoch in range(3):\n",
    "    running_loss = 0.0\n",
    "    correct = 0\n",
    "    total = 0\n",
    "\n",
    "    for images, labels in tqdm(train_loader):\n",
    "        pil_images = [transforms.ToPILImage()(img) for img in images]\n",
    "        inputs = extractor(images=pil_images, return_tensors=\"pt\").to(device)\n",
    "        labels = labels.to(device)\n",
    "\n",
    "        outputs = model(**inputs)\n",
    "        loss = criterion(outputs.logits, labels)\n",
    "\n",
    "        optimizer.zero_grad()\n",
    "        loss.backward()\n",
    "        optimizer.step()\n",
    "\n",
    "        running_loss += loss.item()\n",
    "        preds = outputs.logits.argmax(dim=1)\n",
    "        correct += (preds == labels).sum().item()\n",
    "        total += labels.size(0)\n",
    "\n",
    "    epoch_loss = running_loss / len(train_loader)\n",
    "    epoch_acc = 100 * correct / total\n",
    "    train_losses.append(epoch_loss)\n",
    "    train_accuracies.append(epoch_acc)\n",
    "\n",
    "    print(f\"Epoch {epoch+1}: Loss = {epoch_loss:.4f}, Accuracy = {epoch_acc:.2f}%\")"
   ],
   "id": "f5626cce397af980",
   "outputs": [
    {
     "name": "stderr",
     "output_type": "stream",
     "text": [
      "100%|██████████| 3125/3125 [10:29<00:00,  4.96it/s]\n"
     ]
    },
    {
     "name": "stdout",
     "output_type": "stream",
     "text": [
      "Epoch 1: Loss = 0.1453, Accuracy = 95.35%\n"
     ]
    },
    {
     "name": "stderr",
     "output_type": "stream",
     "text": [
      "100%|██████████| 3125/3125 [10:29<00:00,  4.97it/s]\n"
     ]
    },
    {
     "name": "stdout",
     "output_type": "stream",
     "text": [
      "Epoch 2: Loss = 0.0565, Accuracy = 98.14%\n"
     ]
    },
    {
     "name": "stderr",
     "output_type": "stream",
     "text": [
      "100%|██████████| 3125/3125 [11:02<00:00,  4.71it/s]"
     ]
    },
    {
     "name": "stdout",
     "output_type": "stream",
     "text": [
      "Epoch 3: Loss = 0.0381, Accuracy = 98.76%\n"
     ]
    },
    {
     "name": "stderr",
     "output_type": "stream",
     "text": [
      "\n"
     ]
    }
   ],
   "execution_count": 10
  },
  {
   "metadata": {
    "ExecuteTime": {
     "end_time": "2025-07-19T16:27:44.704698Z",
     "start_time": "2025-07-19T16:27:44.537469Z"
    }
   },
   "cell_type": "code",
   "source": [
    "epochs = range(1, len(train_losses) + 1)\n",
    "\n",
    "plt.figure(figsize=(12, 5))\n",
    "\n",
    "plt.subplot(1, 2, 1)\n",
    "plt.plot(epochs, train_losses, marker='o')\n",
    "plt.title(\"Training Loss\")\n",
    "plt.xlabel(\"Epoch\")\n",
    "plt.ylabel(\"Loss\")\n",
    "\n",
    "plt.subplot(1, 2, 2)\n",
    "plt.plot(epochs, train_accuracies, marker='o', color='green')\n",
    "plt.title(\"Training Accuracy\")\n",
    "plt.xlabel(\"Epoch\")\n",
    "plt.ylabel(\"Accuracy (%)\")\n",
    "\n",
    "plt.tight_layout()\n",
    "plt.show()\n"
   ],
   "id": "87da2376c6deeb8d",
   "outputs": [
    {
     "data": {
      "text/plain": [
       "<Figure size 1200x500 with 2 Axes>"
      ],
      "image/png": "[encoded data removed]"
     },
     "metadata": {},
     "output_type": "display_data"
    }
   ],
   "execution_count": 12
  },
  {
   "metadata": {},
   "cell_type": "markdown",
   "source": "## Test",
   "id": "841316031346b8e7"
  },
  {
   "metadata": {
    "ExecuteTime": {
     "end_time": "2025-07-19T16:27:53.309698Z",
     "start_time": "2025-07-19T16:27:52.731488Z"
    }
   },
   "cell_type": "code",
   "source": [
    "test_dataset = datasets.CIFAR10(root='././data', train=False, download=True, transform=transform)\n",
    "test_loader = DataLoader(test_dataset, batch_size=32, shuffle=False)"
   ],
   "id": "4a53f599856f5ea9",
   "outputs": [],
   "execution_count": 13
  },
  {
   "metadata": {
    "ExecuteTime": {
     "end_time": "2025-07-19T16:28:53.147827Z",
     "start_time": "2025-07-19T16:27:54.051897Z"
    }
   },
   "cell_type": "code",
   "source": [
    "model.eval()\n",
    "correct = 0\n",
    "total = 0\n",
    "\n",
    "with torch.no_grad():\n",
    "    for x, y in tqdm(test_loader):\n",
    "        pil_images = [transforms.ToPILImage()(img) for img in x]\n",
    "        inputs = extractor(images=pil_images, return_tensors=\"pt\").to(device)\n",
    "        y = y.to(device)\n",
    "\n",
    "        outputs = model(**inputs)\n",
    "        preds = outputs.logits.argmax(dim=1)\n",
    "\n",
    "        correct += (preds == y).sum().item()\n",
    "        total += y.size(0)\n",
    "\n",
    "print(f\"\\n🎯 Accuracy on CIFAR-10 test set: {100 * correct / total:.2f}%\")"
   ],
   "id": "593095a931791a5d",
   "outputs": [
    {
     "name": "stderr",
     "output_type": "stream",
     "text": [
      "100%|██████████| 313/313 [00:59<00:00,  5.30it/s]"
     ]
    },
    {
     "name": "stdout",
     "output_type": "stream",
     "text": [
      "\n",
      "🎯 Accuracy on CIFAR-10 test set: 96.57%\n"
     ]
    },
    {
     "name": "stderr",
     "output_type": "stream",
     "text": [
      "\n"
     ]
    }
   ],
   "execution_count": 14
  },
  {
   "metadata": {},
   "cell_type": "markdown",
   "source": "# Distilliation",
   "id": "1bc59a0b8d5b9afa"
  },
  {
   "metadata": {
    "ExecuteTime": {
     "end_time": "2025-07-19T16:31:13.443275Z",
     "start_time": "2025-07-19T16:31:13.440388Z"
    }
   },
   "cell_type": "code",
   "source": [
    "from transformers import DeiTForImageClassification, DeiTFeatureExtractor\n",
    "import torch\n",
    "import torch.nn as nn\n",
    "import torch.nn.functional as F\n",
    "from torchvision import datasets, transforms\n",
    "from torch.utils.data import DataLoader\n",
    "import torch.optim as optim\n",
    "from tqdm import tqdm\n",
    "import matplotlib.pyplot as plt"
   ],
   "id": "7fe424a33d3e628b",
   "outputs": [],
   "execution_count": 15
  },
  {
   "metadata": {
    "ExecuteTime": {
     "end_time": "2025-07-19T16:35:35.483214Z",
     "start_time": "2025-07-19T16:35:34.094781Z"
    }
   },
   "cell_type": "code",
   "source": [
    "device = torch.device(\"cuda\" if torch.cuda.is_available() else \"cpu\")\n",
    "\n",
    "# Учитель\n",
    "teacher = DeiTForImageClassification.from_pretrained(\n",
    "    \"facebook/deit-base-distilled-patch16-224\", torch_dtype=torch.float32\n",
    ").to(device)\n",
    "\n",
    "teacher.classifier = nn.Linear(teacher.classifier.in_features, 10).to(device)\n",
    "teacher.eval()"
   ],
   "id": "883ba18f5a492501",
   "outputs": [
    {
     "name": "stderr",
     "output_type": "stream",
     "text": [
      "Some weights of DeiTForImageClassification were not initialized from the model checkpoint at facebook/deit-base-distilled-patch16-224 and are newly initialized: ['classifier.bias', 'classifier.weight']\n",
      "You should probably TRAIN this model on a down-stream task to be able to use it for predictions and inference.\n"
     ]
    },
    {
     "data": {
      "text/plain": [
       "DeiTForImageClassification(\n",
       "  (deit): DeiTModel(\n",
       "    (embeddings): DeiTEmbeddings(\n",
       "      (patch_embeddings): DeiTPatchEmbeddings(\n",
       "        (projection): Conv2d(3, 768, kernel_size=(16, 16), stride=(16, 16))\n",
       "      )\n",
       "      (dropout): Dropout(p=0.0, inplace=False)\n",
       "    )\n",
       "    (encoder): DeiTEncoder(\n",
       "      (layer): ModuleList(\n",
       "        (0-11): 12 x DeiTLayer(\n",
       "          (attention): DeiTAttention(\n",
       "            (attention): DeiTSelfAttention(\n",
       "              (query): Linear(in_features=768, out_features=768, bias=True)\n",
       "              (key): Linear(in_features=768, out_features=768, bias=True)\n",
       "              (value): Linear(in_features=768, out_features=768, bias=True)\n",
       "            )\n",
       "            (output): DeiTSelfOutput(\n",
       "              (dense): Linear(in_features=768, out_features=768, bias=True)\n",
       "              (dropout): Dropout(p=0.0, inplace=False)\n",
       "            )\n",
       "          )\n",
       "          (intermediate): DeiTIntermediate(\n",
       "            (dense): Linear(in_features=768, out_features=3072, bias=True)\n",
       "            (intermediate_act_fn): GELUActivation()\n",
       "          )\n",
       "          (output): DeiTOutput(\n",
       "            (dense): Linear(in_features=3072, out_features=768, bias=True)\n",
       "            (dropout): Dropout(p=0.0, inplace=False)\n",
       "          )\n",
       "          (layernorm_before): LayerNorm((768,), eps=1e-12, elementwise_affine=True)\n",
       "          (layernorm_after): LayerNorm((768,), eps=1e-12, elementwise_affine=True)\n",
       "        )\n",
       "      )\n",
       "    )\n",
       "    (layernorm): LayerNorm((768,), eps=1e-12, elementwise_affine=True)\n",
       "  )\n",
       "  (classifier): Linear(in_features=768, out_features=10, bias=True)\n",
       ")"
      ]
     },
     "execution_count": 25,
     "metadata": {},
     "output_type": "execute_result"
    }
   ],
   "execution_count": 25
  },
  {
   "metadata": {
    "ExecuteTime": {
     "end_time": "2025-07-19T16:32:01.861492Z",
     "start_time": "2025-07-19T16:31:58.762691Z"
    }
   },
   "cell_type": "code",
   "source": "!pip install hf_xet",
   "id": "679142dfd2ca5dc6",
   "outputs": [
    {
     "name": "stdout",
     "output_type": "stream",
     "text": [
      "Collecting hf_xet\n",
      "  Downloading hf_xet-1.1.5-cp37-abi3-win_amd64.whl (2.7 MB)\n",
      "     ---------------------------------------- 2.7/2.7 MB 5.8 MB/s eta 0:00:00\n",
      "Installing collected packages: hf_xet\n",
      "Successfully installed hf_xet-1.1.5\n"
     ]
    },
    {
     "name": "stderr",
     "output_type": "stream",
     "text": [
      "WARNING: There was an error checking the latest version of pip.\n"
     ]
    }
   ],
   "execution_count": 18
  },
  {
   "metadata": {
    "ExecuteTime": {
     "end_time": "2025-07-19T16:35:38.307247Z",
     "start_time": "2025-07-19T16:35:37.504105Z"
    }
   },
   "cell_type": "code",
   "source": [
    "from transformers import AutoFeatureExtractor, ViTForImageClassification\n",
    "\n",
    "student = ViTForImageClassification.from_pretrained(\"facebook/deit-tiny-patch16-224\").to(device)\n",
    "\n",
    "student.classifier = nn.Linear(student.classifier.in_features, 10).to(device)"
   ],
   "id": "390a476a3642cbd0",
   "outputs": [],
   "execution_count": 26
  },
  {
   "metadata": {
    "ExecuteTime": {
     "end_time": "2025-07-19T16:35:39.135013Z",
     "start_time": "2025-07-19T16:35:38.885059Z"
    }
   },
   "cell_type": "code",
   "source": [
    "extractor = DeiTFeatureExtractor.from_pretrained(\"facebook/deit-base-distilled-patch16-224\")\n",
    "\n",
    "transform = transforms.Compose([\n",
    "    transforms.Resize((224, 224)),\n",
    "    transforms.ToTensor()\n",
    "])"
   ],
   "id": "fa6d16a2b3c20417",
   "outputs": [],
   "execution_count": 27
  },
  {
   "metadata": {
    "ExecuteTime": {
     "end_time": "2025-07-19T16:35:39.673295Z",
     "start_time": "2025-07-19T16:35:39.670483Z"
    }
   },
   "cell_type": "code",
   "source": [
    "def distillation_loss(student_logits, teacher_logits, true_labels, T=2.0, alpha=0.5):\n",
    "    ce_loss = F.cross_entropy(student_logits, true_labels)\n",
    "    kl_loss = F.kl_div(\n",
    "        F.log_softmax(student_logits / T, dim=1),\n",
    "        F.softmax(teacher_logits / T, dim=1),\n",
    "        reduction=\"batchmean\"\n",
    "    ) * (T * T)\n",
    "    return alpha * ce_loss + (1 - alpha) * kl_loss"
   ],
   "id": "514b3d09a1b5e8e9",
   "outputs": [],
   "execution_count": 28
  },
  {
   "metadata": {
    "ExecuteTime": {
     "end_time": "2025-07-19T17:02:05.454772Z",
     "start_time": "2025-07-19T16:35:40.379627Z"
    }
   },
   "cell_type": "code",
   "source": [
    "optimizer = optim.AdamW(student.parameters(), lr=5e-5)\n",
    "num_epochs = 3\n",
    "\n",
    "student.train()\n",
    "for epoch in range(num_epochs):\n",
    "    running_loss = 0.0\n",
    "    correct = 0\n",
    "    total = 0\n",
    "\n",
    "    for images, labels in tqdm(train_loader):\n",
    "        pil_images = [transforms.ToPILImage()(img) for img in images]\n",
    "        inputs = extractor(images=pil_images, return_tensors=\"pt\").to(device)\n",
    "        labels = labels.to(device)\n",
    "\n",
    "        with torch.no_grad():\n",
    "            teacher_logits = teacher(**inputs).logits\n",
    "\n",
    "        student_outputs = student(**inputs)\n",
    "        student_logits = student_outputs.logits\n",
    "\n",
    "        loss = distillation_loss(student_logits, teacher_logits, labels, T=2.0, alpha=0.7)\n",
    "\n",
    "        optimizer.zero_grad()\n",
    "        loss.backward()\n",
    "        optimizer.step()\n",
    "\n",
    "        preds = student_logits.argmax(dim=1)\n",
    "        correct += (preds == labels).sum().item()\n",
    "        total += labels.size(0)\n",
    "        running_loss += loss.item()\n",
    "\n",
    "    epoch_loss = running_loss / len(train_loader)\n",
    "    epoch_acc = 100 * correct / total\n",
    "    print(f\"Epoch {epoch+1}: Loss = {epoch_loss:.4f}, Accuracy = {epoch_acc:.2f}%\")\n"
   ],
   "id": "6595ef752f40a617",
   "outputs": [
    {
     "name": "stderr",
     "output_type": "stream",
     "text": [
      "100%|██████████| 3125/3125 [06:29<00:00,  8.03it/s]\n"
     ]
    },
    {
     "name": "stdout",
     "output_type": "stream",
     "text": [
      "Epoch 1: Loss = 0.6071, Accuracy = 90.98%\n"
     ]
    },
    {
     "name": "stderr",
     "output_type": "stream",
     "text": [
      "100%|██████████| 3125/3125 [06:08<00:00,  8.48it/s]\n"
     ]
    },
    {
     "name": "stdout",
     "output_type": "stream",
     "text": [
      "Epoch 2: Loss = 0.5220, Accuracy = 95.62%\n"
     ]
    },
    {
     "name": "stderr",
     "output_type": "stream",
     "text": [
      "100%|██████████| 3125/3125 [13:47<00:00,  3.78it/s]"
     ]
    },
    {
     "name": "stdout",
     "output_type": "stream",
     "text": [
      "Epoch 3: Loss = 0.4983, Accuracy = 96.90%\n"
     ]
    },
    {
     "name": "stderr",
     "output_type": "stream",
     "text": [
      "\n"
     ]
    }
   ],
   "execution_count": 29
  },
  {
   "metadata": {},
   "cell_type": "code",
   "outputs": [],
   "execution_count": null,
   "source": "",
   "id": "d7ac46bfd888dd0a"
  }
 ],
 "metadata": {
  "kernelspec": {
   "display_name": "Python 3",
   "language": "python",
   "name": "python3"
  },
  "language_info": {
   "codemirror_mode": {
    "name": "ipython",
    "version": 2
   },
   "file_extension": ".py",
   "mimetype": "text/x-python",
   "name": "python",
   "nbconvert_exporter": "python",
   "pygments_lexer": "ipython2",
   "version": "2.7.6"
  }
 },
 "nbformat": 4,
 "nbformat_minor": 5
}
