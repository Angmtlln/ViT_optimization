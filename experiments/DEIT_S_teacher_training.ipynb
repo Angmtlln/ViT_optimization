{
 "cells": [
  {
   "cell_type": "code",
   "id": "initial_id",
   "metadata": {
    "collapsed": true,
    "ExecuteTime": {
     "end_time": "2025-08-06T18:47:09.193111Z",
     "start_time": "2025-08-06T18:47:08.780555Z"
    }
   },
   "source": [
    "import torch\n",
    "import torch.nn as nn\n",
    "from torch.utils.data import TensorDataset, DataLoader\n",
    "import timm\n",
    "import torch.optim as optim\n",
    "import torch.nn.functional as F\n",
    "from tqdm import tqdm\n",
    "\n",
    "device = torch.device(\"cuda\" if torch.cuda.is_available() else \"cpu\")\n",
    "\n",
    "# === Загрузка CutMix датасета ===\n",
    "data = torch.load(\"../data/cifar10_cutmix.pt\")\n",
    "images, labels = data\n",
    "\n",
    "train_loader = DataLoader(\n",
    "    TensorDataset(images, labels),\n",
    "    batch_size=64,\n",
    "    shuffle=True\n",
    ")\n"
   ],
   "outputs": [],
   "execution_count": 6
  },
  {
   "metadata": {
    "ExecuteTime": {
     "end_time": "2025-08-06T19:00:34.676526Z",
     "start_time": "2025-08-06T18:47:09.826488Z"
    }
   },
   "cell_type": "code",
   "source": [
    "# === Модель DeiT-S ===\n",
    "model = timm.create_model(\"deit_small_patch16_224\", pretrained=True, num_classes=10)\n",
    "model.to(device)\n",
    "\n",
    "from experiments.EMA_for_weights import EMA\n",
    "\n",
    "ema = EMA(model, decay=0.999)\n",
    "\n",
    "criterion = nn.CrossEntropyLoss()\n",
    "optimizer = optim.AdamW(model.parameters(), lr=1e-4)\n",
    "\n",
    "# === Тренировка ===\n",
    "epochs = 5\n",
    "model.train()\n",
    "for epoch in range(epochs):\n",
    "    total_loss = 0\n",
    "    total_correct = 0\n",
    "    total_samples = 0\n",
    "\n",
    "    loop = tqdm(train_loader, desc=f\"Epoch {epoch+1}/{epochs}\")\n",
    "\n",
    "    for x, y in loop:\n",
    "        x = F.interpolate(x, size=(224, 224), mode='bilinear', align_corners=False)\n",
    "        x, y = x.to(device), y.to(device)\n",
    "\n",
    "        if y.ndim > 1:\n",
    "            y = torch.argmax(y, dim=1)\n",
    "        y = y.long()\n",
    "\n",
    "        optimizer.zero_grad()\n",
    "        out = model(x)\n",
    "        loss = criterion(out, y)\n",
    "        loss.backward()\n",
    "        optimizer.step()\n",
    "        ema.update(model)\n",
    "\n",
    "        total_loss += loss.item()\n",
    "\n",
    "        preds = out.argmax(dim=1)\n",
    "        correct = (preds == y).sum().item()\n",
    "        total_correct += correct\n",
    "        total_samples += y.size(0)\n",
    "\n",
    "        accuracy = 100 * total_correct / total_samples\n",
    "        loop.set_postfix(loss=loss.item(), accuracy=f\"{accuracy:.2f}%\")\n",
    "\n",
    "    avg_loss = total_loss / len(train_loader)\n",
    "    avg_accuracy = 100 * total_correct / total_samples\n",
    "    print(f\"[Epoch {epoch+1}] Avg Loss: {avg_loss:.4f}, Avg Accuracy: {avg_accuracy:.2f}%\")\n"
   ],
   "id": "423fc39952c5b7e1",
   "outputs": [
    {
     "name": "stderr",
     "output_type": "stream",
     "text": [
      "Epoch 1/5: 100%|██████████| 782/782 [02:44<00:00,  4.76it/s, accuracy=81.05%, loss=0.266]\n"
     ]
    },
    {
     "name": "stdout",
     "output_type": "stream",
     "text": [
      "[Epoch 1] Avg Loss: 0.5741, Avg Accuracy: 81.05%\n"
     ]
    },
    {
     "name": "stderr",
     "output_type": "stream",
     "text": [
      "Epoch 2/5: 100%|██████████| 782/782 [02:39<00:00,  4.90it/s, accuracy=91.90%, loss=0.0616]\n"
     ]
    },
    {
     "name": "stdout",
     "output_type": "stream",
     "text": [
      "[Epoch 2] Avg Loss: 0.2440, Avg Accuracy: 91.90%\n"
     ]
    },
    {
     "name": "stderr",
     "output_type": "stream",
     "text": [
      "Epoch 3/5: 100%|██████████| 782/782 [02:39<00:00,  4.89it/s, accuracy=95.21%, loss=0.0885]\n"
     ]
    },
    {
     "name": "stdout",
     "output_type": "stream",
     "text": [
      "[Epoch 3] Avg Loss: 0.1419, Avg Accuracy: 95.21%\n"
     ]
    },
    {
     "name": "stderr",
     "output_type": "stream",
     "text": [
      "Epoch 4/5: 100%|██████████| 782/782 [02:40<00:00,  4.88it/s, accuracy=96.63%, loss=0.37]   \n"
     ]
    },
    {
     "name": "stdout",
     "output_type": "stream",
     "text": [
      "[Epoch 4] Avg Loss: 0.1004, Avg Accuracy: 96.63%\n"
     ]
    },
    {
     "name": "stderr",
     "output_type": "stream",
     "text": [
      "Epoch 5/5: 100%|██████████| 782/782 [02:40<00:00,  4.88it/s, accuracy=97.29%, loss=0.0323] "
     ]
    },
    {
     "name": "stdout",
     "output_type": "stream",
     "text": [
      "[Epoch 5] Avg Loss: 0.0806, Avg Accuracy: 97.29%\n"
     ]
    },
    {
     "name": "stderr",
     "output_type": "stream",
     "text": [
      "\n"
     ]
    }
   ],
   "execution_count": 7
  },
  {
   "metadata": {
    "ExecuteTime": {
     "end_time": "2025-08-06T19:00:43.033496Z",
     "start_time": "2025-08-06T19:00:42.818997Z"
    }
   },
   "cell_type": "code",
   "source": [
    "# === Сохраняем модель ===\n",
    "torch.save(model.state_dict(), \"../data/model_weights/deit_s_cifar10_aug.pt\")\n",
    "torch.save(ema.state_dict(), \"../data/model_weights/deit_s_cifar10_aug_ema.pt\")\n"
   ],
   "id": "64e533b54f276bfe",
   "outputs": [],
   "execution_count": 8
  },
  {
   "metadata": {},
   "cell_type": "code",
   "outputs": [],
   "execution_count": null,
   "source": "",
   "id": "5e64895f018d807a"
  }
 ],
 "metadata": {
  "kernelspec": {
   "display_name": "Python 3",
   "language": "python",
   "name": "python3"
  },
  "language_info": {
   "codemirror_mode": {
    "name": "ipython",
    "version": 2
   },
   "file_extension": ".py",
   "mimetype": "text/x-python",
   "name": "python",
   "nbconvert_exporter": "python",
   "pygments_lexer": "ipython2",
   "version": "2.7.6"
  }
 },
 "nbformat": 4,
 "nbformat_minor": 5
}
