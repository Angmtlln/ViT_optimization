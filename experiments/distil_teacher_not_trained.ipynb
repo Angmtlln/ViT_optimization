{
 "cells": [
  {
   "cell_type": "code",
   "execution_count": 1,
   "id": "5a0ef50a",
   "metadata": {},
   "outputs": [
    {
     "name": "stdout",
     "output_type": "stream",
     "text": [
      "✓ GPU is available. Use GPU for this demo\n"
     ]
    }
   ],
   "source": [
    "import os, sys\n",
    "import torch\n",
    "import torch.nn as nn\n",
    "import torch.nn.functional as F\n",
    "from torch.utils.data import Dataset, DataLoader\n",
    "import matplotlib.pyplot as plt\n",
    "from PIL import Image\n",
    "from tqdm import tqdm\n",
    "import numpy as np\n",
    "\n",
    "from sklearn.model_selection import train_test_split\n",
    "from collections import defaultdict\n",
    "import random\n",
    "from glob import glob\n",
    "from pathlib import Path\n",
    "\n",
    "# --- НАСТРОЙКИ УСТРОЙСТВА ---\n",
    "if torch.cuda.is_available():\n",
    "    print('✓ GPU is available. Use GPU for this demo')\n",
    "else:\n",
    "    print('⚠ Use CPU for this demo')\n",
    "device = torch.device(\"cuda\" if torch.cuda.is_available() else \"cpu\")"
   ]
  },
  {
   "cell_type": "code",
   "execution_count": 2,
   "id": "95ae3111",
   "metadata": {},
   "outputs": [
    {
     "name": "stdout",
     "output_type": "stream",
     "text": [
      " ��� � ���ன�⢥ C �� ����� ��⪨.\n",
      " ��਩�� ����� ⮬�: AA35-AB91\n",
      "\n",
      " ����ন��� ����� c:\\Users\\amirn\\OneDrive\\����稩 �⮫\\Optimization\n",
      "\n",
      "16.10.2025  18:01    <DIR>          .\n",
      "16.10.2025  10:52    <DIR>          ..\n",
      "15.10.2025  23:25    <DIR>          .venv\n",
      "15.10.2025  18:52            34�829 decoder_best_layer21.pth\n",
      "15.10.2025  19:36         4�458�915 distillation.ipynb\n",
      "15.10.2025  15:27    <DIR>          kv2 features\n",
      "13.10.2025  16:14    <DIR>          kvasir-dataset-v2\n",
      "15.10.2025  15:12    <DIR>          perception_models\n",
      "16.10.2025  14:18            16�192 quantization.ipynb\n",
      "15.10.2025  22:49        43�910�427 quantized_student_dynamic.pth\n",
      "15.10.2025  23:07        50�592�819 quantized_student_ultra.pth\n",
      "16.10.2025  17:36       545�640�131 student_best_model.pth\n",
      "16.10.2025  17:47       348�897�049 student_distilled_final.pth\n",
      "16.10.2025  18:15           129�494 teach_small.ipynb\n",
      "16.10.2025  14:18               574 testing.ipynb\n",
      "16.10.2025  18:01           103�726 training_history.png\n",
      "              10 䠩���    993�784�156 ����\n",
      "               6 �����  430�937�370�624 ���� ᢮�����\n"
     ]
    }
   ],
   "source": [
    "ls"
   ]
  },
  {
   "cell_type": "code",
   "execution_count": 3,
   "id": "d23102c3",
   "metadata": {},
   "outputs": [
    {
     "name": "stdout",
     "output_type": "stream",
     "text": [
      "c:\\Users\\amirn\\OneDrive\\Рабочий стол\\Optimization\\perception_models\n"
     ]
    }
   ],
   "source": [
    "cd perception_models"
   ]
  },
  {
   "cell_type": "code",
   "execution_count": null,
   "id": "674b9ad2",
   "metadata": {},
   "outputs": [
    {
     "name": "stdout",
     "output_type": "stream",
     "text": [
      "Загружаем модель-учителя PE-Core-L14-336...\n",
      "Missing keys for loading model: []\n",
      "Unexpected keys for loading model: []\n",
      "Загружаем модель-студента PE-Core-S16-384...\n",
      "Missing keys for loading model: []\n",
      "Unexpected keys for loading model: []\n",
      "✓ Модели загружены успешно\n"
     ]
    }
   ],
   "source": [
    "DISTILLATION_LR = 1e-4\n",
    "DISTILLATION_EPOCHS = 20\n",
    "BATCH_SIZE = 16\n",
    "NUM_WORKERS = 0\n",
    "SEED = 42\n",
    "random.seed(SEED)\n",
    "torch.manual_seed(SEED)\n",
    "\n",
    "from core.vision_encoder import pe\n",
    "from core.vision_encoder import transforms\n",
    "\n",
    "print(\"Загружаем модель-учителя PE-Core-L14-336...\")\n",
    "teacher_model = pe.CLIP.from_config(\"PE-Core-L14-336\", pretrained=True)\n",
    "teacher_model = teacher_model.to(device).float().eval()\n",
    "\n",
    "print(\"Загружаем модель-студента PE-Core-S16-384...\")\n",
    "student_model = pe.CLIP.from_config(\"PE-Core-S16-384\", pretrained=True)\n",
    "student_model = student_model.to(device).float() \n",
    "\n",
    "print(\"✓ Модели загружены успешно\")"
   ]
  },
  {
   "cell_type": "code",
   "execution_count": 5,
   "id": "3b248e5e",
   "metadata": {},
   "outputs": [
    {
     "name": "stdout",
     "output_type": "stream",
     "text": [
      "Размер изображения для учителя: 336\n",
      "Размер изображения для студента: 384\n",
      "Размерность признаков учителя: 1024\n",
      "Размерность признаков студента: 512\n"
     ]
    }
   ],
   "source": [
    "# ========================================================================\n",
    "# Препроцессоры и размеры признаков\n",
    "# ========================================================================\n",
    "teacher_preprocessor = transforms.get_image_transform(teacher_model.image_size)\n",
    "student_preprocessor = transforms.get_image_transform(student_model.image_size)\n",
    "\n",
    "teacher_dim = teacher_model.visual.output_dim\n",
    "student_dim = student_model.visual.output_dim\n",
    "\n",
    "print(f\"Размер изображения для учителя: {teacher_model.image_size}\")\n",
    "print(f\"Размер изображения для студента: {student_model.image_size}\")\n",
    "print(f\"Размерность признаков учителя: {teacher_dim}\")\n",
    "print(f\"Размерность признаков студента: {student_dim}\")"
   ]
  },
  {
   "cell_type": "code",
   "execution_count": 6,
   "id": "15ebb718",
   "metadata": {},
   "outputs": [
    {
     "name": "stdout",
     "output_type": "stream",
     "text": [
      "c:\\Users\\amirn\\OneDrive\\Рабочий стол\\Optimization\n"
     ]
    }
   ],
   "source": [
    "cd .."
   ]
  },
  {
   "cell_type": "code",
   "execution_count": 7,
   "id": "d85ded5c",
   "metadata": {},
   "outputs": [
    {
     "name": "stdout",
     "output_type": "stream",
     "text": [
      "Шаг 1: Поиск всех изображений и их меток...\n",
      "Найдено 8000 изображений.\n",
      "Обработано 7999 уникальных изображений с валидными метками.\n"
     ]
    }
   ],
   "source": [
    "# ========================================================================\n",
    "# Загрузка датасета\n",
    "# ========================================================================\n",
    "ROOT_DIR = 'kvasir-dataset-v2'\n",
    "\n",
    "print(\"Шаг 1: Поиск всех изображений и их меток...\")\n",
    "all_image_paths = glob(os.path.join(ROOT_DIR, '**', '*.jpg'), recursive=True)\n",
    "print(f\"Найдено {len(all_image_paths)} изображений.\")\n",
    "\n",
    "def extract_label_from_path(image_path):\n",
    "    \"\"\"Извлекает метку из пути к изображению (папка после ROOT_DIR).\"\"\"\n",
    "    path_parts = Path(image_path).parts\n",
    "    try:\n",
    "        labeled_images_idx = path_parts.index(Path(ROOT_DIR).name)\n",
    "        return path_parts[labeled_images_idx + 1]\n",
    "    except (ValueError, IndexError):\n",
    "        return None\n",
    "\n",
    "image_to_path = {}\n",
    "image_to_label = {}\n",
    "\n",
    "for path in all_image_paths:\n",
    "    image_id = os.path.splitext(os.path.basename(path))[0]\n",
    "    label = extract_label_from_path(path)\n",
    "    if label:\n",
    "        image_to_path[image_id] = path\n",
    "        image_to_label[image_id] = label\n",
    "\n",
    "print(f\"Обработано {len(image_to_label)} уникальных изображений с валидными метками.\")"
   ]
  },
  {
   "cell_type": "code",
   "execution_count": 8,
   "id": "188f0cfc",
   "metadata": {},
   "outputs": [
    {
     "name": "stdout",
     "output_type": "stream",
     "text": [
      "Шаг 2: Создание сбалансированного подмножества...\n",
      "Создано подмножество из 4000 изображений для дистилляции\n"
     ]
    }
   ],
   "source": [
    "# ========================================================================\n",
    "# Балансированное подмножество\n",
    "# ========================================================================\n",
    "print(\"Шаг 2: Создание сбалансированного подмножества...\")\n",
    "\n",
    "images_by_class = defaultdict(list)\n",
    "for image_id, label in image_to_label.items():\n",
    "    images_by_class[label].append(image_id)\n",
    "\n",
    "images_per_class = 500\n",
    "sampled_image_ids = []\n",
    "\n",
    "for label, id_list in images_by_class.items():\n",
    "    available = len(id_list)\n",
    "    n_to_sample = min(images_per_class, available)\n",
    "    if available < images_per_class:\n",
    "        print(f\"Предупреждение: Доступно только {available} изображений для '{label}'\")\n",
    "    sampled_ids = random.sample(id_list, n_to_sample)\n",
    "    sampled_image_ids.extend(sampled_ids)\n",
    "\n",
    "random.shuffle(sampled_image_ids)\n",
    "print(f\"Создано подмножество из {len(sampled_image_ids)} изображений для дистилляции\")\n"
   ]
  },
  {
   "cell_type": "code",
   "execution_count": 9,
   "id": "14866647",
   "metadata": {},
   "outputs": [
    {
     "name": "stdout",
     "output_type": "stream",
     "text": [
      "Шаг 3: Разделение данных...\n",
      "Размеры наборов данных:\n",
      "  - Тренировочный (train): 2560\n",
      "  - Валидационный (val): 640\n",
      "  - Тестовый: 800\n",
      "Найдено 8 классов: ['dyed-lifted-polyps', 'dyed-resection-margins', 'esophagitis', 'normal-cecum', 'normal-pylorus', 'normal-z-line', 'polyps', 'ulcerative-colitis']\n"
     ]
    }
   ],
   "source": [
    "# ========================================================================\n",
    "# Разделение на train/val/test\n",
    "# ========================================================================\n",
    "print(\"Шаг 3: Разделение данных...\")\n",
    "\n",
    "sampled_labels = [image_to_label[img_id] for img_id in sampled_image_ids]\n",
    "\n",
    "train_val_ids, test_ids = train_test_split(\n",
    "    sampled_image_ids,\n",
    "    test_size=0.20,\n",
    "    stratify=sampled_labels,\n",
    "    random_state=SEED\n",
    ")\n",
    "\n",
    "train_val_labels = [image_to_label[img_id] for img_id in train_val_ids]\n",
    "train_ids, val_ids = train_test_split(\n",
    "    train_val_ids,\n",
    "    test_size=0.20,\n",
    "    stratify=train_val_labels,\n",
    "    random_state=SEED\n",
    ")\n",
    "\n",
    "print(f\"Размеры наборов данных:\")\n",
    "print(f\"  - Тренировочный (train): {len(train_ids)}\")\n",
    "print(f\"  - Валидационный (val): {len(val_ids)}\")\n",
    "print(f\"  - Тестовый: {len(test_ids)}\")\n",
    "\n",
    "classes = sorted(list(set(image_to_label.values())))\n",
    "label_to_idx = {label: i for i, label in enumerate(classes)}\n",
    "idx_to_label = {i: label for label, i in label_to_idx.items()}\n",
    "\n",
    "print(f\"Найдено {len(classes)} классов: {classes}\")"
   ]
  },
  {
   "cell_type": "code",
   "execution_count": 10,
   "id": "410da604",
   "metadata": {},
   "outputs": [
    {
     "name": "stdout",
     "output_type": "stream",
     "text": [
      "✓ Созданы датасеты:\n",
      "  - Train: 2560 изображений\n",
      "  - Val: 640 изображений\n",
      "  - Test: 800 изображений\n"
     ]
    }
   ],
   "source": [
    "# ========================================================================\n",
    "# Dataset\n",
    "# ========================================================================\n",
    "class DistillationDataset(Dataset):\n",
    "    def __init__(self, image_ids, image_to_path_map, image_to_label_map, \n",
    "                 label_to_idx_map, teacher_transform, student_transform):\n",
    "        self.image_ids = image_ids\n",
    "        self.image_to_path = image_to_path_map\n",
    "        self.image_to_label = image_to_label_map\n",
    "        self.label_to_idx = label_to_idx_map\n",
    "        self.teacher_transform = teacher_transform\n",
    "        self.student_transform = student_transform\n",
    "\n",
    "    def __len__(self):\n",
    "        return len(self.image_ids)\n",
    "\n",
    "    def __getitem__(self, idx):\n",
    "        image_id = self.image_ids[idx]\n",
    "        image_path = self.image_to_path[image_id]\n",
    "        label = self.image_to_label[image_id]\n",
    "        label_idx = self.label_to_idx[label]\n",
    "\n",
    "        img = Image.open(image_path).convert('RGB')\n",
    "\n",
    "        teacher_input = self.teacher_transform(img)  # tensor\n",
    "        student_input = self.student_transform(img)  # tensor\n",
    "\n",
    "        return teacher_input, student_input, torch.tensor(label_idx, dtype=torch.long)\n",
    "\n",
    "train_dataset = DistillationDataset(train_ids, image_to_path, image_to_label, label_to_idx,\n",
    "                                    teacher_preprocessor, student_preprocessor)\n",
    "val_dataset = DistillationDataset(val_ids, image_to_path, image_to_label, label_to_idx,\n",
    "                                  teacher_preprocessor, student_preprocessor)\n",
    "test_dataset = DistillationDataset(test_ids, image_to_path, image_to_label, label_to_idx,\n",
    "                                   teacher_preprocessor, student_preprocessor)\n",
    "\n",
    "train_loader = DataLoader(train_dataset, batch_size=BATCH_SIZE, shuffle=True, num_workers=NUM_WORKERS)\n",
    "val_loader = DataLoader(val_dataset, batch_size=BATCH_SIZE, shuffle=False, num_workers=NUM_WORKERS)\n",
    "test_loader = DataLoader(test_dataset, batch_size=BATCH_SIZE, shuffle=False, num_workers=NUM_WORKERS)\n",
    "\n",
    "print(f\"✓ Созданы датасеты:\")\n",
    "print(f\"  - Train: {len(train_dataset)} изображений\")\n",
    "print(f\"  - Val: {len(val_dataset)} изображений\")\n",
    "print(f\"  - Test: {len(test_dataset)} изображений\")"
   ]
  },
  {
   "cell_type": "code",
   "execution_count": null,
   "id": "100eefbe",
   "metadata": {},
   "outputs": [
    {
     "name": "stdout",
     "output_type": "stream",
     "text": [
      "✓ Создан классификатор: 512 -> 8 классов\n",
      "  Параметров в классификаторе: 4,104\n",
      "✓ Создан проекционный слой: 512 -> 1024\n",
      "  Параметров в проекции: 525,312\n",
      "✓ Инициализирована функция потерь с проекцией\n",
      "✓ Настройки обучения обновлены\n",
      "  Всего обучаемых параметров: 87,717,129\n"
     ]
    }
   ],
   "source": [
    "# ========================================================================\n",
    "# Классификационная голова и проекция\n",
    "# ========================================================================\n",
    "class ClassificationHead(nn.Module):\n",
    "    def __init__(self, input_dim, num_classes):\n",
    "        super().__init__()\n",
    "        self.classifier = nn.Sequential(\n",
    "            nn.Linear(input_dim, num_classes)\n",
    "        )\n",
    "    def forward(self, x):\n",
    "        return self.classifier(x)\n",
    "\n",
    "class ProjectionHead(nn.Module):\n",
    "    def __init__(self, student_dim, teacher_dim):\n",
    "        super().__init__()\n",
    "        self.projection = nn.Linear(student_dim, teacher_dim)\n",
    "    def forward(self, x):\n",
    "        return self.projection(x)\n",
    "\n",
    "num_classes = len(classes)\n",
    "classification_head = ClassificationHead(student_dim, num_classes).to(device)\n",
    "projection_head = ProjectionHead(student_dim, teacher_dim).to(device)\n",
    "\n",
    "print(f\"✓ Создан классификатор: {student_dim} -> {num_classes} классов\")\n",
    "print(f\"  Параметров в классификаторе: {sum(p.numel() for p in classification_head.parameters()):,}\")\n",
    "print(f\"✓ Создан проекционный слой: {student_dim} -> {teacher_dim}\")\n",
    "print(f\"  Параметров в проекции: {sum(p.numel() for p in projection_head.parameters()):,}\")\n",
    "\n",
    "# ========================================================================\n",
    "# Функция потерь\n",
    "# ========================================================================\n",
    "class ImprovedDistillationLoss(nn.Module):\n",
    "    def __init__(self, temperature=4.0, alpha=0.5):\n",
    "        super().__init__()\n",
    "        self.temperature = temperature\n",
    "        self.alpha = alpha\n",
    "        self.ce_loss = nn.CrossEntropyLoss()\n",
    "    def forward(self, student_features_projected, teacher_features, student_logits, labels):\n",
    "        student_norm = F.normalize(student_features_projected, p=2, dim=-1)\n",
    "        teacher_norm = F.normalize(teacher_features, p=2, dim=-1)\n",
    "        cosine_sim = F.cosine_similarity(student_norm, teacher_norm, dim=-1)  # (batch,)\n",
    "        feature_loss = (1.0 - cosine_sim).mean()\n",
    "        classification_loss = self.ce_loss(student_logits, labels)\n",
    "        total_loss = self.alpha * feature_loss + (1.0 - self.alpha) * classification_loss\n",
    "        return total_loss, feature_loss, classification_loss\n",
    "\n",
    "distillation_criterion = ImprovedDistillationLoss(temperature=4.0, alpha=0.5)\n",
    "print(\"✓ Инициализирована функция потерь с проекцией\")\n",
    "\n",
    "# ========================================================================\n",
    "# Оптимизатор\n",
    "# ========================================================================\n",
    "trainable_params = list(student_model.parameters()) + list(classification_head.parameters()) + list(projection_head.parameters())\n",
    "optimizer = torch.optim.AdamW(trainable_params, lr=DISTILLATION_LR, weight_decay=1e-5)\n",
    "scheduler = torch.optim.lr_scheduler.CosineAnnealingLR(optimizer, T_max=DISTILLATION_EPOCHS)\n",
    "\n",
    "print(\"✓ Настройки обучения обновлены\")\n",
    "print(f\"  Всего обучаемых параметров: {sum(p.numel() for p in trainable_params):,}\")"
   ]
  },
  {
   "cell_type": "code",
   "execution_count": 12,
   "id": "8abd27e0",
   "metadata": {},
   "outputs": [
    {
     "name": "stdout",
     "output_type": "stream",
     "text": [
      "✓ Функция валидации готова\n"
     ]
    }
   ],
   "source": [
    "# ========================================================================\n",
    "# Валидация\n",
    "# ========================================================================\n",
    "def validate(student, classifier, projection, val_loader, criterion, device):\n",
    "    student.eval()\n",
    "    classifier.eval()\n",
    "    projection.eval()\n",
    "\n",
    "    total_loss = 0.0\n",
    "    total_feature_loss = 0.0\n",
    "    total_cls_loss = 0.0\n",
    "    correct = 0\n",
    "    total = 0\n",
    "    n_batches = 0\n",
    "\n",
    "    with torch.no_grad():\n",
    "        for teacher_inputs, student_inputs, labels in val_loader:\n",
    "            teacher_inputs = teacher_inputs.to(device)\n",
    "            student_inputs = student_inputs.to(device)\n",
    "            labels = labels.to(device)\n",
    "\n",
    "            # teacher_features получаем от учителя (on device)\n",
    "            teacher_features = teacher_model.encode_image(teacher_inputs)\n",
    "\n",
    "            # student features\n",
    "            student_features = student.encode_image(student_inputs)\n",
    "\n",
    "            # проекция и логиты\n",
    "            student_features_projected = projection(student_features)\n",
    "            logits = classifier(student_features)\n",
    "\n",
    "            loss, feature_loss, cls_loss = criterion(student_features_projected, teacher_features, logits, labels)\n",
    "\n",
    "            total_loss += loss.item()\n",
    "            total_feature_loss += feature_loss.item()\n",
    "            total_cls_loss += cls_loss.item()\n",
    "\n",
    "            _, predicted = torch.max(logits, 1)\n",
    "            total += labels.size(0)\n",
    "            correct += (predicted == labels).sum().item()\n",
    "            n_batches += 1\n",
    "\n",
    "    if n_batches == 0:\n",
    "        return 0.0, 0.0, 0.0, 0.0\n",
    "\n",
    "    avg_loss = total_loss / n_batches\n",
    "    avg_feature_loss = total_feature_loss / n_batches\n",
    "    avg_cls_loss = total_cls_loss / n_batches\n",
    "    accuracy = 100.0 * correct / total if total > 0 else 0.0\n",
    "\n",
    "    return avg_loss, avg_feature_loss, avg_cls_loss, accuracy\n",
    "\n",
    "print(\"✓ Функция валидации готова\")\n"
   ]
  },
  {
   "cell_type": "code",
   "execution_count": null,
   "id": "a63509ed",
   "metadata": {},
   "outputs": [
    {
     "name": "stdout",
     "output_type": "stream",
     "text": [
      "\n",
      "================================================================================\n",
      "НАЧАЛО ОБУЧЕНИЯ С ДИСТИЛЛЯЦИЕЙ\n",
      "================================================================================\n",
      "\n"
     ]
    },
    {
     "name": "stderr",
     "output_type": "stream",
     "text": [
      "Epoch 1/20: 100%|██████████| 160/160 [02:37<00:00,  1.02it/s, Loss=0.3550, Feat=0.0574, Cls=0.6526]\n"
     ]
    },
    {
     "name": "stdout",
     "output_type": "stream",
     "text": [
      "\n",
      "Epoch 1/20:\n",
      "  Train Loss: 0.5555 (Feature: 0.1535, Cls: 0.9575)\n",
      "  Val Loss:   0.4156 (Feature: 0.0538, Cls: 0.7775)\n",
      "  Val Accuracy: 62.50%\n",
      "  Learning Rate: 0.000099\n",
      "  ✓ Сохранена лучшая модель с accuracy 62.50%\n",
      "--------------------------------------------------------------------------------\n"
     ]
    },
    {
     "name": "stderr",
     "output_type": "stream",
     "text": [
      "Epoch 2/20: 100%|██████████| 160/160 [02:45<00:00,  1.03s/it, Loss=0.2792, Feat=0.0485, Cls=0.5100]\n"
     ]
    },
    {
     "name": "stdout",
     "output_type": "stream",
     "text": [
      "\n",
      "Epoch 2/20:\n",
      "  Train Loss: 0.3809 (Feature: 0.0518, Cls: 0.7101)\n",
      "  Val Loss:   0.3413 (Feature: 0.0465, Cls: 0.6361)\n",
      "  Val Accuracy: 74.84%\n",
      "  Learning Rate: 0.000098\n",
      "  ✓ Сохранена лучшая модель с accuracy 74.84%\n",
      "--------------------------------------------------------------------------------\n"
     ]
    },
    {
     "name": "stderr",
     "output_type": "stream",
     "text": [
      "Epoch 3/20: 100%|██████████| 160/160 [02:34<00:00,  1.04it/s, Loss=0.3634, Feat=0.0397, Cls=0.6871]\n"
     ]
    },
    {
     "name": "stdout",
     "output_type": "stream",
     "text": [
      "\n",
      "Epoch 3/20:\n",
      "  Train Loss: 0.3209 (Feature: 0.0460, Cls: 0.5958)\n",
      "  Val Loss:   0.2988 (Feature: 0.0427, Cls: 0.5549)\n",
      "  Val Accuracy: 77.81%\n",
      "  Learning Rate: 0.000095\n",
      "  ✓ Сохранена лучшая модель с accuracy 77.81%\n",
      "--------------------------------------------------------------------------------\n"
     ]
    },
    {
     "name": "stderr",
     "output_type": "stream",
     "text": [
      "Epoch 4/20: 100%|██████████| 160/160 [02:34<00:00,  1.03it/s, Loss=0.6974, Feat=0.0443, Cls=1.3505]\n"
     ]
    },
    {
     "name": "stdout",
     "output_type": "stream",
     "text": [
      "\n",
      "Epoch 4/20:\n",
      "  Train Loss: 0.2460 (Feature: 0.0439, Cls: 0.4482)\n",
      "  Val Loss:   0.2621 (Feature: 0.0413, Cls: 0.4829)\n",
      "  Val Accuracy: 81.09%\n",
      "  Learning Rate: 0.000090\n",
      "  ✓ Сохранена лучшая модель с accuracy 81.09%\n",
      "--------------------------------------------------------------------------------\n"
     ]
    },
    {
     "name": "stderr",
     "output_type": "stream",
     "text": [
      "Epoch 5/20: 100%|██████████| 160/160 [02:34<00:00,  1.03it/s, Loss=0.4463, Feat=0.0424, Cls=0.8501]\n"
     ]
    },
    {
     "name": "stdout",
     "output_type": "stream",
     "text": [
      "\n",
      "Epoch 5/20:\n",
      "  Train Loss: 0.1962 (Feature: 0.0417, Cls: 0.3507)\n",
      "  Val Loss:   0.2533 (Feature: 0.0416, Cls: 0.4649)\n",
      "  Val Accuracy: 79.84%\n",
      "  Learning Rate: 0.000085\n",
      "  ✓ Сохранен чекпоинт эпохи 5\n",
      "--------------------------------------------------------------------------------\n"
     ]
    },
    {
     "name": "stderr",
     "output_type": "stream",
     "text": [
      "Epoch 6/20: 100%|██████████| 160/160 [02:35<00:00,  1.03it/s, Loss=0.1871, Feat=0.0366, Cls=0.3376]\n"
     ]
    },
    {
     "name": "stdout",
     "output_type": "stream",
     "text": [
      "\n",
      "Epoch 6/20:\n",
      "  Train Loss: 0.1988 (Feature: 0.0411, Cls: 0.3565)\n",
      "  Val Loss:   0.2109 (Feature: 0.0403, Cls: 0.3815)\n",
      "  Val Accuracy: 86.09%\n",
      "  Learning Rate: 0.000079\n",
      "  ✓ Сохранена лучшая модель с accuracy 86.09%\n",
      "--------------------------------------------------------------------------------\n"
     ]
    },
    {
     "name": "stderr",
     "output_type": "stream",
     "text": [
      "Epoch 7/20: 100%|██████████| 160/160 [02:34<00:00,  1.03it/s, Loss=0.1641, Feat=0.0419, Cls=0.2864]\n"
     ]
    },
    {
     "name": "stdout",
     "output_type": "stream",
     "text": [
      "\n",
      "Epoch 7/20:\n",
      "  Train Loss: 0.1239 (Feature: 0.0392, Cls: 0.2085)\n",
      "  Val Loss:   0.2456 (Feature: 0.0395, Cls: 0.4516)\n",
      "  Val Accuracy: 83.91%\n",
      "  Learning Rate: 0.000073\n",
      "--------------------------------------------------------------------------------\n"
     ]
    },
    {
     "name": "stderr",
     "output_type": "stream",
     "text": [
      "Epoch 8/20: 100%|██████████| 160/160 [02:36<00:00,  1.02it/s, Loss=0.1261, Feat=0.0326, Cls=0.2197]\n"
     ]
    },
    {
     "name": "stdout",
     "output_type": "stream",
     "text": [
      "\n",
      "Epoch 8/20:\n",
      "  Train Loss: 0.1045 (Feature: 0.0390, Cls: 0.1701)\n",
      "  Val Loss:   0.2891 (Feature: 0.0379, Cls: 0.5403)\n",
      "  Val Accuracy: 82.50%\n",
      "  Learning Rate: 0.000065\n",
      "--------------------------------------------------------------------------------\n"
     ]
    },
    {
     "name": "stderr",
     "output_type": "stream",
     "text": [
      "Epoch 9/20: 100%|██████████| 160/160 [02:35<00:00,  1.03it/s, Loss=0.0737, Feat=0.0457, Cls=0.1016]\n"
     ]
    },
    {
     "name": "stdout",
     "output_type": "stream",
     "text": [
      "\n",
      "Epoch 9/20:\n",
      "  Train Loss: 0.0767 (Feature: 0.0375, Cls: 0.1159)\n",
      "  Val Loss:   0.2535 (Feature: 0.0370, Cls: 0.4700)\n",
      "  Val Accuracy: 83.44%\n",
      "  Learning Rate: 0.000058\n",
      "--------------------------------------------------------------------------------\n"
     ]
    },
    {
     "name": "stderr",
     "output_type": "stream",
     "text": [
      "Epoch 10/20: 100%|██████████| 160/160 [02:35<00:00,  1.03it/s, Loss=0.0230, Feat=0.0359, Cls=0.0100]\n"
     ]
    },
    {
     "name": "stdout",
     "output_type": "stream",
     "text": [
      "\n",
      "Epoch 10/20:\n",
      "  Train Loss: 0.0579 (Feature: 0.0372, Cls: 0.0787)\n",
      "  Val Loss:   0.2287 (Feature: 0.0364, Cls: 0.4211)\n",
      "  Val Accuracy: 86.56%\n",
      "  Learning Rate: 0.000050\n",
      "  ✓ Сохранена лучшая модель с accuracy 86.56%\n",
      "  ✓ Сохранен чекпоинт эпохи 10\n",
      "--------------------------------------------------------------------------------\n"
     ]
    },
    {
     "name": "stderr",
     "output_type": "stream",
     "text": [
      "Epoch 11/20: 100%|██████████| 160/160 [02:37<00:00,  1.02it/s, Loss=0.0250, Feat=0.0362, Cls=0.0137]\n"
     ]
    },
    {
     "name": "stdout",
     "output_type": "stream",
     "text": [
      "\n",
      "Epoch 11/20:\n",
      "  Train Loss: 0.0417 (Feature: 0.0364, Cls: 0.0469)\n",
      "  Val Loss:   0.2682 (Feature: 0.0360, Cls: 0.5004)\n",
      "  Val Accuracy: 85.16%\n",
      "  Learning Rate: 0.000042\n",
      "--------------------------------------------------------------------------------\n"
     ]
    },
    {
     "name": "stderr",
     "output_type": "stream",
     "text": [
      "Epoch 12/20: 100%|██████████| 160/160 [02:36<00:00,  1.02it/s, Loss=0.0227, Feat=0.0333, Cls=0.0122]\n"
     ]
    },
    {
     "name": "stdout",
     "output_type": "stream",
     "text": [
      "\n",
      "Epoch 12/20:\n",
      "  Train Loss: 0.0299 (Feature: 0.0360, Cls: 0.0238)\n",
      "  Val Loss:   0.2824 (Feature: 0.0352, Cls: 0.5295)\n",
      "  Val Accuracy: 86.09%\n",
      "  Learning Rate: 0.000035\n",
      "--------------------------------------------------------------------------------\n"
     ]
    },
    {
     "name": "stderr",
     "output_type": "stream",
     "text": [
      "Epoch 13/20: 100%|██████████| 160/160 [02:35<00:00,  1.03it/s, Loss=0.0174, Feat=0.0344, Cls=0.0004]\n"
     ]
    },
    {
     "name": "stdout",
     "output_type": "stream",
     "text": [
      "\n",
      "Epoch 13/20:\n",
      "  Train Loss: 0.0194 (Feature: 0.0353, Cls: 0.0035)\n",
      "  Val Loss:   0.2940 (Feature: 0.0346, Cls: 0.5533)\n",
      "  Val Accuracy: 86.88%\n",
      "  Learning Rate: 0.000027\n",
      "  ✓ Сохранена лучшая модель с accuracy 86.88%\n",
      "--------------------------------------------------------------------------------\n"
     ]
    },
    {
     "name": "stderr",
     "output_type": "stream",
     "text": [
      "Epoch 14/20: 100%|██████████| 160/160 [02:36<00:00,  1.02it/s, Loss=0.0165, Feat=0.0321, Cls=0.0009]\n"
     ]
    },
    {
     "name": "stdout",
     "output_type": "stream",
     "text": [
      "\n",
      "Epoch 14/20:\n",
      "  Train Loss: 0.0179 (Feature: 0.0348, Cls: 0.0010)\n",
      "  Val Loss:   0.2981 (Feature: 0.0343, Cls: 0.5619)\n",
      "  Val Accuracy: 86.41%\n",
      "  Learning Rate: 0.000021\n",
      "--------------------------------------------------------------------------------\n"
     ]
    },
    {
     "name": "stderr",
     "output_type": "stream",
     "text": [
      "Epoch 15/20: 100%|██████████| 160/160 [02:35<00:00,  1.03it/s, Loss=0.0166, Feat=0.0330, Cls=0.0003]\n"
     ]
    },
    {
     "name": "stdout",
     "output_type": "stream",
     "text": [
      "\n",
      "Epoch 15/20:\n",
      "  Train Loss: 0.0176 (Feature: 0.0345, Cls: 0.0007)\n",
      "  Val Loss:   0.3030 (Feature: 0.0341, Cls: 0.5719)\n",
      "  Val Accuracy: 86.41%\n",
      "  Learning Rate: 0.000015\n",
      "  ✓ Сохранен чекпоинт эпохи 15\n",
      "--------------------------------------------------------------------------------\n"
     ]
    },
    {
     "name": "stderr",
     "output_type": "stream",
     "text": [
      "Epoch 16/20: 100%|██████████| 160/160 [02:35<00:00,  1.03it/s, Loss=0.0181, Feat=0.0357, Cls=0.0006]\n"
     ]
    },
    {
     "name": "stdout",
     "output_type": "stream",
     "text": [
      "\n",
      "Epoch 16/20:\n",
      "  Train Loss: 0.0175 (Feature: 0.0343, Cls: 0.0006)\n",
      "  Val Loss:   0.3062 (Feature: 0.0340, Cls: 0.5784)\n",
      "  Val Accuracy: 86.56%\n",
      "  Learning Rate: 0.000010\n",
      "--------------------------------------------------------------------------------\n"
     ]
    },
    {
     "name": "stderr",
     "output_type": "stream",
     "text": [
      "Epoch 17/20: 100%|██████████| 160/160 [02:35<00:00,  1.03it/s, Loss=0.0199, Feat=0.0390, Cls=0.0007]\n"
     ]
    },
    {
     "name": "stdout",
     "output_type": "stream",
     "text": [
      "\n",
      "Epoch 17/20:\n",
      "  Train Loss: 0.0173 (Feature: 0.0342, Cls: 0.0005)\n",
      "  Val Loss:   0.3083 (Feature: 0.0339, Cls: 0.5827)\n",
      "  Val Accuracy: 86.88%\n",
      "  Learning Rate: 0.000005\n",
      "--------------------------------------------------------------------------------\n"
     ]
    },
    {
     "name": "stderr",
     "output_type": "stream",
     "text": [
      "Epoch 18/20: 100%|██████████| 160/160 [02:35<00:00,  1.03it/s, Loss=0.0177, Feat=0.0349, Cls=0.0005]\n"
     ]
    },
    {
     "name": "stdout",
     "output_type": "stream",
     "text": [
      "\n",
      "Epoch 18/20:\n",
      "  Train Loss: 0.0173 (Feature: 0.0340, Cls: 0.0005)\n",
      "  Val Loss:   0.3096 (Feature: 0.0339, Cls: 0.5852)\n",
      "  Val Accuracy: 86.88%\n",
      "  Learning Rate: 0.000002\n",
      "--------------------------------------------------------------------------------\n"
     ]
    },
    {
     "name": "stderr",
     "output_type": "stream",
     "text": [
      "Epoch 19/20: 100%|██████████| 160/160 [02:36<00:00,  1.02it/s, Loss=0.0148, Feat=0.0293, Cls=0.0002]\n"
     ]
    },
    {
     "name": "stdout",
     "output_type": "stream",
     "text": [
      "\n",
      "Epoch 19/20:\n",
      "  Train Loss: 0.0172 (Feature: 0.0340, Cls: 0.0005)\n",
      "  Val Loss:   0.3101 (Feature: 0.0338, Cls: 0.5863)\n",
      "  Val Accuracy: 86.88%\n",
      "  Learning Rate: 0.000001\n",
      "--------------------------------------------------------------------------------\n"
     ]
    },
    {
     "name": "stderr",
     "output_type": "stream",
     "text": [
      "Epoch 20/20: 100%|██████████| 160/160 [02:38<00:00,  1.01it/s, Loss=0.0181, Feat=0.0357, Cls=0.0005]\n"
     ]
    },
    {
     "name": "stdout",
     "output_type": "stream",
     "text": [
      "\n",
      "Epoch 20/20:\n",
      "  Train Loss: 0.0172 (Feature: 0.0339, Cls: 0.0005)\n",
      "  Val Loss:   0.3102 (Feature: 0.0338, Cls: 0.5866)\n",
      "  Val Accuracy: 86.88%\n",
      "  Learning Rate: 0.000000\n",
      "  ✓ Сохранен чекпоинт эпохи 20\n",
      "--------------------------------------------------------------------------------\n",
      "\n",
      "================================================================================\n",
      "ОБУЧЕНИЕ ЗАВЕРШЕНО!\n",
      "================================================================================\n",
      "Лучшая валидационная точность: 86.88% (эпоха 13)\n"
     ]
    }
   ],
   "source": [
    "# ========================================================================\n",
    "# Основной цикл обучения\n",
    "# ========================================================================\n",
    "print(\"\\n\" + \"=\"*80)\n",
    "print(\"НАЧАЛО ОБУЧЕНИЯ С ДИСТИЛЛЯЦИЕЙ\")\n",
    "print(\"=\"*80 + \"\\n\")\n",
    "\n",
    "best_val_accuracy = 0.0\n",
    "best_epoch = 0\n",
    "history = {\n",
    "    'train_loss': [], 'train_feature_loss': [], 'train_cls_loss': [],\n",
    "    'val_loss': [], 'val_feature_loss': [], 'val_cls_loss': [],\n",
    "    'val_accuracy': []\n",
    "}\n",
    "\n",
    "for epoch in range(1, DISTILLATION_EPOCHS + 1):\n",
    "    student_model.train()\n",
    "    classification_head.train()\n",
    "    projection_head.train()\n",
    "\n",
    "    train_loss = 0.0\n",
    "    train_feature_loss = 0.0\n",
    "    train_cls_loss = 0.0\n",
    "    num_batches = 0\n",
    "\n",
    "    progress_bar = tqdm(train_loader, desc=f\"Epoch {epoch}/{DISTILLATION_EPOCHS}\")\n",
    "\n",
    "    for teacher_inputs, student_inputs, labels in progress_bar:\n",
    "        teacher_inputs = teacher_inputs.to(device)\n",
    "        student_inputs = student_inputs.to(device)\n",
    "        labels = labels.to(device)\n",
    "\n",
    "        optimizer.zero_grad()\n",
    "\n",
    "        with torch.no_grad():\n",
    "            teacher_features = teacher_model.encode_image(teacher_inputs)\n",
    "\n",
    "        student_features = student_model.encode_image(student_inputs)\n",
    "\n",
    "        student_features_projected = projection_head(student_features)\n",
    "        logits = classification_head(student_features)\n",
    "\n",
    "        loss, feature_loss, cls_loss = distillation_criterion(\n",
    "            student_features_projected, teacher_features, logits, labels\n",
    "        )\n",
    "\n",
    "        loss.backward()\n",
    "        optimizer.step()\n",
    "\n",
    "        train_loss += loss.item()\n",
    "        train_feature_loss += feature_loss.item()\n",
    "        train_cls_loss += cls_loss.item()\n",
    "        num_batches += 1\n",
    "\n",
    "        progress_bar.set_postfix({\n",
    "            'Loss': f'{loss.item():.4f}',\n",
    "            'Feat': f'{feature_loss.item():.4f}',\n",
    "            'Cls': f'{cls_loss.item():.4f}'\n",
    "        })\n",
    "\n",
    "    avg_train_loss = train_loss / max(1, num_batches)\n",
    "    avg_train_feature_loss = train_feature_loss / max(1, num_batches)\n",
    "    avg_train_cls_loss = train_cls_loss / max(1, num_batches)\n",
    "\n",
    "    # Валидация\n",
    "    val_loss, val_feature_loss, val_cls_loss, val_accuracy = validate(\n",
    "        student_model, classification_head, projection_head, val_loader,\n",
    "        distillation_criterion, device\n",
    "    )\n",
    "\n",
    "    scheduler.step()\n",
    "    current_lr = optimizer.param_groups[0]['lr']\n",
    "\n",
    "    history['train_loss'].append(avg_train_loss)\n",
    "    history['train_feature_loss'].append(avg_train_feature_loss)\n",
    "    history['train_cls_loss'].append(avg_train_cls_loss)\n",
    "    history['val_loss'].append(val_loss)\n",
    "    history['val_feature_loss'].append(val_feature_loss)\n",
    "    history['val_cls_loss'].append(val_cls_loss)\n",
    "    history['val_accuracy'].append(val_accuracy)\n",
    "\n",
    "    # Логи\n",
    "    print(f\"\\nEpoch {epoch}/{DISTILLATION_EPOCHS}:\")\n",
    "    print(f\"  Train Loss: {avg_train_loss:.4f} (Feature: {avg_train_feature_loss:.4f}, Cls: {avg_train_cls_loss:.4f})\")\n",
    "    print(f\"  Val Loss:   {val_loss:.4f} (Feature: {val_feature_loss:.4f}, Cls: {val_cls_loss:.4f})\")\n",
    "    print(f\"  Val Accuracy: {val_accuracy:.2f}%\")\n",
    "    print(f\"  Learning Rate: {current_lr:.6f}\")\n",
    "\n",
    "    if val_accuracy > best_val_accuracy:\n",
    "        best_val_accuracy = val_accuracy\n",
    "        best_epoch = epoch\n",
    "        best_checkpoint = {\n",
    "            'epoch': epoch,\n",
    "            'student_state_dict': student_model.state_dict(),\n",
    "            'classifier_state_dict': classification_head.state_dict(),\n",
    "            'projection_state_dict': projection_head.state_dict(),\n",
    "            'optimizer_state_dict': optimizer.state_dict(),\n",
    "            'val_accuracy': val_accuracy,\n",
    "            'val_loss': val_loss,\n",
    "            'config': \"PE-Core-S16-384\",\n",
    "            'classes': classes,\n",
    "            'label_to_idx': label_to_idx\n",
    "        }\n",
    "        torch.save(best_checkpoint, 'student_best_model.pth')\n",
    "        print(f\"  ✓ Сохранена лучшая модель с accuracy {val_accuracy:.2f}%\")\n",
    "\n",
    "    if epoch % 5 == 0:\n",
    "        checkpoint = {\n",
    "            'epoch': epoch,\n",
    "            'student_state_dict': student_model.state_dict(),\n",
    "            'classifier_state_dict': classification_head.state_dict(),\n",
    "            'projection_state_dict': projection_head.state_dict(),\n",
    "            'optimizer_state_dict': optimizer.state_dict(),\n",
    "            'scheduler_state_dict': scheduler.state_dict(),\n",
    "            'val_accuracy': val_accuracy,\n",
    "            'history': history\n",
    "        }\n",
    "        torch.save(checkpoint, f'student_checkpoint_epoch_{epoch}.pth')\n",
    "        print(f\"  ✓ Сохранен чекпоинт эпохи {epoch}\")\n",
    "\n",
    "    print(\"-\" * 80)\n",
    "\n",
    "print(\"\\n\" + \"=\"*80)\n",
    "print(\"ОБУЧЕНИЕ ЗАВЕРШЕНО!\")\n",
    "print(\"=\"*80)\n",
    "print(f\"Лучшая валидационная точность: {best_val_accuracy:.2f}% (эпоха {best_epoch})\")"
   ]
  },
  {
   "cell_type": "code",
   "execution_count": 15,
   "id": "aabd9947",
   "metadata": {},
   "outputs": [
    {
     "name": "stdout",
     "output_type": "stream",
     "text": [
      "✅ Финальная модель сохранена: student_distilled_final.pth\n",
      "\n",
      "================================================================================\n",
      "СРАВНЕНИЕ МОДЕЛЕЙ\n",
      "================================================================================\n",
      "👩‍🏫 Учитель (PE-Core-L14-336):\n",
      "  • Параметры: 671,137,793\n",
      "  • Размер: 2560.2 MB\n",
      "  • Feature dim: 1024\n",
      "\n",
      "👨‍🎓 Студент (PE-Core-S16-384 + Classifier):\n",
      "  • Параметры: 87,191,817\n",
      "  • Размер: 332.6 MB\n",
      "  • Feature dim: 512\n",
      "\n",
      "📉 Сжатие: 7.7x\n",
      "📦 Снижение параметров: 7.7x\n"
     ]
    }
   ],
   "source": [
    "# ============================================================================\n",
    "# ЯЧЕЙКА 13: Сохранение финальной модели\n",
    "# ============================================================================\n",
    "final_checkpoint = {\n",
    "    \"student_state_dict\": student_model.state_dict(),\n",
    "    \"classifier_state_dict\": classification_head.state_dict(),\n",
    "    \"config\": \"PE-Core-S16-384\",\n",
    "    \"classes\": classes,\n",
    "    \"label_to_idx\": label_to_idx,\n",
    "    \"idx_to_label\": idx_to_label,\n",
    "    \"history\": history,\n",
    "    \"teacher_dim\": teacher_dim,\n",
    "    \"student_dim\": student_dim,\n",
    "    \"num_classes\": num_classes\n",
    "}\n",
    "\n",
    "torch.save(final_checkpoint, \"student_distilled_final.pth\")\n",
    "print(\"✅ Финальная модель сохранена: student_distilled_final.pth\")\n",
    "\n",
    "# ============================================================================\n",
    "# Сравнение моделей\n",
    "# ============================================================================\n",
    "print(\"\\n\" + \"=\" * 80)\n",
    "print(\"СРАВНЕНИЕ МОДЕЛЕЙ\")\n",
    "print(\"=\" * 80)\n",
    "\n",
    "teacher_params = sum(p.numel() for p in teacher_model.parameters())\n",
    "student_params = sum(p.numel() for p in student_model.parameters())\n",
    "classifier_params = sum(p.numel() for p in classification_head.parameters())\n",
    "\n",
    "teacher_size = teacher_params * 4 / (1024 ** 2)  # MB (float32)\n",
    "student_size = (student_params + classifier_params) * 4 / (1024 ** 2)  # MB\n",
    "\n",
    "print(f\"👩‍🏫 Учитель (PE-Core-L14-336):\")\n",
    "print(f\"  • Параметры: {teacher_params:,}\")\n",
    "print(f\"  • Размер: {teacher_size:.1f} MB\")\n",
    "print(f\"  • Feature dim: {teacher_dim}\")\n",
    "\n",
    "print(f\"\\n👨‍🎓 Студент (PE-Core-S16-384 + Classifier):\")\n",
    "print(f\"  • Параметры: {student_params + classifier_params:,}\")\n",
    "print(f\"  • Размер: {student_size:.1f} MB\")\n",
    "print(f\"  • Feature dim: {student_dim}\")\n",
    "\n",
    "print(f\"\\n📉 Сжатие: {teacher_size / student_size:.1f}x\")\n",
    "print(f\"📦 Снижение параметров: {teacher_params / (student_params + classifier_params):.1f}x\")\n"
   ]
  },
  {
   "cell_type": "code",
   "execution_count": null,
   "id": "ce16bd92",
   "metadata": {},
   "outputs": [
    {
     "name": "stdout",
     "output_type": "stream",
     "text": [
      "\n",
      "================================================================================\n",
      "ТЕСТИРОВАНИЕ НА TEST SET\n",
      "================================================================================\n",
      "\n"
     ]
    },
    {
     "name": "stderr",
     "output_type": "stream",
     "text": [
      "Тестирование:   0%|          | 0/50 [00:00<?, ?it/s]"
     ]
    },
    {
     "name": "stderr",
     "output_type": "stream",
     "text": [
      "                                                             "
     ]
    },
    {
     "name": "stdout",
     "output_type": "stream",
     "text": [
      "\n",
      "Результаты на тестовом наборе:\n",
      "  Test Accuracy: 87.88%\n",
      "  Средняя косинусная близость признаков: 0.0253\n",
      "  Среднее MSE расстояние признаков: 0.0019\n",
      "\n",
      "Accuracy по классам:\n",
      "  dyed-lifted-polyps: 97.00% (97/100)\n",
      "  dyed-resection-margins: 90.00% (90/100)\n",
      "  esophagitis: 69.00% (69/100)\n",
      "  normal-cecum: 94.00% (94/100)\n",
      "  normal-pylorus: 99.00% (99/100)\n",
      "  normal-z-line: 77.00% (77/100)\n",
      "  polyps: 88.00% (88/100)\n",
      "  ulcerative-colitis: 89.00% (89/100)\n"
     ]
    },
    {
     "name": "stderr",
     "output_type": "stream",
     "text": [
      "\r"
     ]
    }
   ],
   "source": [
    "# --- Тестирование финальной модели ---\n",
    "print(\"\\n\" + \"=\"*80)\n",
    "print(\"ТЕСТИРОВАНИЕ НА TEST SET\")\n",
    "print(\"=\"*80 + \"\\n\")\n",
    "\n",
    "if len(test_dataset) == 0:\n",
    "    raise ValueError(\"Тестовый датасет пуст! Проверьте test_ids и Dataset.\")\n",
    "\n",
    "student_model.eval()\n",
    "classification_head.eval()\n",
    "projection = nn.Linear(student_dim, teacher_dim).cuda()  \n",
    "\n",
    "test_correct = 0\n",
    "test_total = 0\n",
    "class_correct = defaultdict(int)\n",
    "class_total = defaultdict(int)\n",
    "similarities = []\n",
    "mse_distances = []\n",
    "\n",
    "with torch.no_grad():\n",
    "    for _, student_inputs, labels in tqdm(test_loader, desc=\"Тестирование\", leave=False):\n",
    "        student_inputs = student_inputs.cuda(non_blocking=True)\n",
    "        labels = labels.cuda(non_blocking=True)\n",
    "\n",
    "        student_features = student_model.encode_image(student_inputs)\n",
    "        student_features_proj = projection(student_features)\n",
    "\n",
    "        logits = classification_head(student_features)\n",
    "        _, predicted = torch.max(logits, 1)\n",
    "\n",
    "        test_total += labels.size(0)\n",
    "        test_correct += (predicted == labels).sum().item()\n",
    "\n",
    "        for i in range(labels.size(0)):\n",
    "            label = labels[i].item()\n",
    "            class_name = idx_to_label[label]\n",
    "            class_total[class_name] += 1\n",
    "            if predicted[i] == labels[i]:\n",
    "                class_correct[class_name] += 1\n",
    "\n",
    "        teacher_features = teacher_model.encode_image(student_inputs)  \n",
    "        teacher_norm = F.normalize(teacher_features, p=2, dim=-1)\n",
    "        student_norm = F.normalize(student_features_proj, p=2, dim=-1)\n",
    "\n",
    "        cosine_sim = F.cosine_similarity(teacher_norm, student_norm, dim=-1)\n",
    "        similarities.extend(cosine_sim.cpu().tolist())\n",
    "\n",
    "        mse_batch = F.mse_loss(student_norm, teacher_norm, reduction=\"none\").mean(dim=1)\n",
    "        mse_distances.extend(mse_batch.cpu().tolist())\n",
    "\n",
    "if test_total > 0:\n",
    "    test_accuracy = 100 * test_correct / test_total\n",
    "else:\n",
    "    test_accuracy = 0.0\n",
    "\n",
    "avg_similarity = np.mean(similarities) if similarities else 0.0\n",
    "avg_mse = np.mean(mse_distances) if mse_distances else 0.0\n",
    "\n",
    "print(f\"\\nРезультаты на тестовом наборе:\")\n",
    "print(f\"  Test Accuracy: {test_accuracy:.2f}%\")\n",
    "print(f\"  Средняя косинусная близость признаков: {avg_similarity:.4f}\")\n",
    "print(f\"  Среднее MSE расстояние признаков: {avg_mse:.4f}\")\n",
    "\n",
    "print(f\"\\nAccuracy по классам:\")\n",
    "for class_name in sorted(class_total.keys()):\n",
    "    class_acc = 100 * class_correct[class_name] / class_total[class_name] if class_total[class_name] > 0 else 0.0\n",
    "    print(f\"  {class_name}: {class_acc:.2f}% ({class_correct[class_name]}/{class_total[class_name]})\")\n"
   ]
  },
  {
   "cell_type": "code",
   "execution_count": 17,
   "id": "7c863720",
   "metadata": {},
   "outputs": [
    {
     "name": "stdout",
     "output_type": "stream",
     "text": [
      "\n",
      "📈 График обучения сохранен: training_history.png\n"
     ]
    },
    {
     "data": {
      "image/png": "[encoded data removed]",
      "text/plain": [
       "<Figure size 1500x1000 with 4 Axes>"
      ]
     },
     "metadata": {},
     "output_type": "display_data"
    },
    {
     "name": "stdout",
     "output_type": "stream",
     "text": [
      "\n",
      "================================================================================\n",
      "🎉 ДИСТИЛЛЯЦИЯ ЗАВЕРШЕНА УСПЕШНО!\n",
      "================================================================================\n",
      "\n",
      "Финальные результаты:\n",
      "  • Лучшая валидационная точность: 86.88%\n",
      "  • Тестовая точность: 87.88%\n",
      "  • Сжатие модели: 7.7x\n",
      "  • Качество признаков (cosine similarity): 0.0253\n"
     ]
    }
   ],
   "source": [
    "\n",
    "# ============================================================================\n",
    "# ЯЧЕЙКА 15: Визуализация обучения\n",
    "# ============================================================================\n",
    "fig, axes = plt.subplots(2, 2, figsize=(15, 10))\n",
    "\n",
    "# --- Total Loss ---\n",
    "axes[0, 0].plot(history[\"train_loss\"], label=\"Train\", marker=\"o\")\n",
    "axes[0, 0].plot(history[\"val_loss\"], label=\"Val\", marker=\"s\")\n",
    "axes[0, 0].set_title(\"Total Loss\")\n",
    "axes[0, 0].set_xlabel(\"Epoch\")\n",
    "axes[0, 0].set_ylabel(\"Loss\")\n",
    "axes[0, 0].legend()\n",
    "axes[0, 0].grid(True)\n",
    "\n",
    "# --- Feature Loss ---\n",
    "axes[0, 1].plot(history[\"train_feature_loss\"], label=\"Train\", marker=\"o\")\n",
    "axes[0, 1].plot(history[\"val_feature_loss\"], label=\"Val\", marker=\"s\")\n",
    "axes[0, 1].set_title(\"Feature Matching Loss\")\n",
    "axes[0, 1].set_xlabel(\"Epoch\")\n",
    "axes[0, 1].set_ylabel(\"Loss\")\n",
    "axes[0, 1].legend()\n",
    "axes[0, 1].grid(True)\n",
    "\n",
    "# --- Classification Loss ---\n",
    "axes[1, 0].plot(history[\"train_cls_loss\"], label=\"Train\", marker=\"o\")\n",
    "axes[1, 0].plot(history[\"val_cls_loss\"], label=\"Val\", marker=\"s\")\n",
    "axes[1, 0].set_title(\"Classification Loss\")\n",
    "axes[1, 0].set_xlabel(\"Epoch\")\n",
    "axes[1, 0].set_ylabel(\"Loss\")\n",
    "axes[1, 0].legend()\n",
    "axes[1, 0].grid(True)\n",
    "\n",
    "# --- Validation Accuracy ---\n",
    "axes[1, 1].plot(history[\"val_accuracy\"], label=\"Val\", marker=\"o\", color=\"green\")\n",
    "axes[1, 1].axhline(y=best_val_accuracy, color=\"red\", linestyle=\"--\",\n",
    "                   label=f\"Best: {best_val_accuracy:.2f}%\")\n",
    "axes[1, 1].set_title(\"Validation Accuracy\")\n",
    "axes[1, 1].set_xlabel(\"Epoch\")\n",
    "axes[1, 1].set_ylabel(\"Accuracy (%)\")\n",
    "axes[1, 1].legend()\n",
    "axes[1, 1].grid(True)\n",
    "\n",
    "plt.tight_layout()\n",
    "plt.savefig(\"training_history.png\", dpi=150, bbox_inches=\"tight\")\n",
    "print(\"\\n📈 График обучения сохранен: training_history.png\")\n",
    "plt.show()\n",
    "\n",
    "print(\"\\n\" + \"=\" * 80)\n",
    "print(\"🎉 ДИСТИЛЛЯЦИЯ ЗАВЕРШЕНА УСПЕШНО!\")\n",
    "print(\"=\" * 80)\n",
    "print(f\"\\nФинальные результаты:\")\n",
    "print(f\"  • Лучшая валидационная точность: {best_val_accuracy:.2f}%\")\n",
    "print(f\"  • Тестовая точность: {test_accuracy:.2f}%\")\n",
    "print(f\"  • Сжатие модели: {teacher_size / student_size:.1f}x\")\n",
    "print(f\"  • Качество признаков (cosine similarity): {avg_similarity:.4f}\")"
   ]
  },
  {
   "cell_type": "code",
   "execution_count": null,
   "id": "337073f4",
   "metadata": {},
   "outputs": [],
   "source": []
  }
 ],
 "metadata": {
  "kernelspec": {
   "display_name": ".venv",
   "language": "python",
   "name": "python3"
  },
  "language_info": {
   "codemirror_mode": {
    "name": "ipython",
    "version": 3
   },
   "file_extension": ".py",
   "mimetype": "text/x-python",
   "name": "python",
   "nbconvert_exporter": "python",
   "pygments_lexer": "ipython3",
   "version": "3.11.0"
  }
 },
 "nbformat": 4,
 "nbformat_minor": 5
}
